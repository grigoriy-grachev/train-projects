{
 "cells": [
  {
   "cell_type": "markdown",
   "metadata": {},
   "source": [
    "# Определение перспективного тарифа для телеком компании"
   ]
  },
  {
   "cell_type": "markdown",
   "metadata": {},
   "source": [
    "«Мегалайн» — федеральный оператор сотовой связи. Клиентам предлагают два тарифных плана: «Смарт» и «Ультра». Чтобы скорректировать рекламный бюджет, коммерческий департамент хочет понять, какой тариф приносит больше денег.\n",
    "\n",
    "Необходимо сделать анализ тарифов на небольшой выборке клиентов. \n",
    "\n",
    "\n",
    "Есть данные по 500 пользователям «Мегалайна»: кто они, откуда, каким тарифом пользуются, сколько звонков и сообщений каждый отправил за 2018 год. Нужно проанализировать поведение клиентов и сделать вывод — какой тариф лучше\n"
   ]
  },
  {
   "cell_type": "markdown",
   "metadata": {},
   "source": [
    "**Основная цель**\n",
    "\n",
    "Абонентска плата у тарифа \"Ультра\" больше, но необходимо выявить, пользователи на каком тарифе приносят больше выручки вместе со всеми потребленными услугами.\n",
    "\n",
    "\n"
   ]
  },
  {
   "cell_type": "markdown",
   "metadata": {
    "toc": true
   },
   "source": [
    "<h1>Содержание<span class=\"tocSkip\"></span></h1>\n",
    "<div class=\"toc\"><ul class=\"toc-item\"><li><span><a href=\"#Изучение-данных-из-файлов\" data-toc-modified-id=\"Изучение-данных-из-файлов-1\"><span class=\"toc-item-num\">1&nbsp;&nbsp;</span>Изучение данных из файлов</a></span><ul class=\"toc-item\"><li><span><a href=\"#Файл-со-звонками\" data-toc-modified-id=\"Файл-со-звонками-1.1\"><span class=\"toc-item-num\">1.1&nbsp;&nbsp;</span>Файл со звонками</a></span></li><li><span><a href=\"#Файл-с-трафиком\" data-toc-modified-id=\"Файл-с-трафиком-1.2\"><span class=\"toc-item-num\">1.2&nbsp;&nbsp;</span>Файл с трафиком</a></span></li><li><span><a href=\"#Файл-сообщений\" data-toc-modified-id=\"Файл-сообщений-1.3\"><span class=\"toc-item-num\">1.3&nbsp;&nbsp;</span>Файл сообщений</a></span></li><li><span><a href=\"#Файл-с-тарифами\" data-toc-modified-id=\"Файл-с-тарифами-1.4\"><span class=\"toc-item-num\">1.4&nbsp;&nbsp;</span>Файл с тарифами</a></span></li><li><span><a href=\"#Файл-пользователи\" data-toc-modified-id=\"Файл-пользователи-1.5\"><span class=\"toc-item-num\">1.5&nbsp;&nbsp;</span>Файл пользователи</a></span></li><li><span><a href=\"#Вывод\" data-toc-modified-id=\"Вывод-1.6\"><span class=\"toc-item-num\">1.6&nbsp;&nbsp;</span>Вывод</a></span></li></ul></li><li><span><a href=\"#Подготовка-данных\" data-toc-modified-id=\"Подготовка-данных-2\"><span class=\"toc-item-num\">2&nbsp;&nbsp;</span>Подготовка данных</a></span><ul class=\"toc-item\"><li><span><a href=\"#Замена-типов\" data-toc-modified-id=\"Замена-типов-2.1\"><span class=\"toc-item-num\">2.1&nbsp;&nbsp;</span>Замена типов</a></span><ul class=\"toc-item\"><li><span><a href=\"#Звонки\" data-toc-modified-id=\"Звонки-2.1.1\"><span class=\"toc-item-num\">2.1.1&nbsp;&nbsp;</span>Звонки</a></span></li><li><span><a href=\"#Трафик\" data-toc-modified-id=\"Трафик-2.1.2\"><span class=\"toc-item-num\">2.1.2&nbsp;&nbsp;</span>Трафик</a></span></li><li><span><a href=\"#Сообщения\" data-toc-modified-id=\"Сообщения-2.1.3\"><span class=\"toc-item-num\">2.1.3&nbsp;&nbsp;</span>Сообщения</a></span></li><li><span><a href=\"#Пользователи\" data-toc-modified-id=\"Пользователи-2.1.4\"><span class=\"toc-item-num\">2.1.4&nbsp;&nbsp;</span>Пользователи</a></span></li></ul></li><li><span><a href=\"#Проверка-на-наличие-выбросов\" data-toc-modified-id=\"Проверка-на-наличие-выбросов-2.2\"><span class=\"toc-item-num\">2.2&nbsp;&nbsp;</span>Проверка на наличие выбросов</a></span><ul class=\"toc-item\"><li><span><a href=\"#Звонки\" data-toc-modified-id=\"Звонки-2.2.1\"><span class=\"toc-item-num\">2.2.1&nbsp;&nbsp;</span>Звонки</a></span></li><li><span><a href=\"#Трафик\" data-toc-modified-id=\"Трафик-2.2.2\"><span class=\"toc-item-num\">2.2.2&nbsp;&nbsp;</span>Трафик</a></span></li><li><span><a href=\"#Сообщения\" data-toc-modified-id=\"Сообщения-2.2.3\"><span class=\"toc-item-num\">2.2.3&nbsp;&nbsp;</span>Сообщения</a></span></li></ul></li><li><span><a href=\"#Агрегация-данных\" data-toc-modified-id=\"Агрегация-данных-2.3\"><span class=\"toc-item-num\">2.3&nbsp;&nbsp;</span>Агрегация данных</a></span><ul class=\"toc-item\"><li><span><a href=\"#Агрегация-данных-по-звонкам\" data-toc-modified-id=\"Агрегация-данных-по-звонкам-2.3.1\"><span class=\"toc-item-num\">2.3.1&nbsp;&nbsp;</span>Агрегация данных по звонкам</a></span></li><li><span><a href=\"#Агрегация-данных-по-сообщениям\" data-toc-modified-id=\"Агрегация-данных-по-сообщениям-2.3.2\"><span class=\"toc-item-num\">2.3.2&nbsp;&nbsp;</span>Агрегация данных по сообщениям</a></span></li><li><span><a href=\"#Агрегация-данных-по-трафику\" data-toc-modified-id=\"Агрегация-данных-по-трафику-2.3.3\"><span class=\"toc-item-num\">2.3.3&nbsp;&nbsp;</span>Агрегация данных по трафику</a></span></li><li><span><a href=\"#Агрегация-данных-по-тарифам\" data-toc-modified-id=\"Агрегация-данных-по-тарифам-2.3.4\"><span class=\"toc-item-num\">2.3.4&nbsp;&nbsp;</span>Агрегация данных по тарифам</a></span></li><li><span><a href=\"#Подсчет-выручки-пользователей-по-месяцам\" data-toc-modified-id=\"Подсчет-выручки-пользователей-по-месяцам-2.3.5\"><span class=\"toc-item-num\">2.3.5&nbsp;&nbsp;</span>Подсчет выручки пользователей по месяцам</a></span></li></ul></li><li><span><a href=\"#Вывод\" data-toc-modified-id=\"Вывод-2.4\"><span class=\"toc-item-num\">2.4&nbsp;&nbsp;</span>Вывод</a></span></li></ul></li><li><span><a href=\"#Анализ-данных\" data-toc-modified-id=\"Анализ-данных-3\"><span class=\"toc-item-num\">3&nbsp;&nbsp;</span>Анализ данных</a></span><ul class=\"toc-item\"><li><span><a href=\"#Анализ-длительности-звонков-по-месяцам\" data-toc-modified-id=\"Анализ-длительности-звонков-по-месяцам-3.1\"><span class=\"toc-item-num\">3.1&nbsp;&nbsp;</span>Анализ длительности звонков по месяцам</a></span></li><li><span><a href=\"#Анализ-количества-сообщений-по-месяцам\" data-toc-modified-id=\"Анализ-количества-сообщений-по-месяцам-3.2\"><span class=\"toc-item-num\">3.2&nbsp;&nbsp;</span>Анализ количества сообщений по месяцам</a></span></li><li><span><a href=\"#Анализ-количества-трафика-по-месяцам\" data-toc-modified-id=\"Анализ-количества-трафика-по-месяцам-3.3\"><span class=\"toc-item-num\">3.3&nbsp;&nbsp;</span>Анализ количества трафика по месяцам</a></span></li><li><span><a href=\"#Вывод\" data-toc-modified-id=\"Вывод-3.4\"><span class=\"toc-item-num\">3.4&nbsp;&nbsp;</span>Вывод</a></span></li></ul></li><li><span><a href=\"#Проверка-гипотез\" data-toc-modified-id=\"Проверка-гипотез-4\"><span class=\"toc-item-num\">4&nbsp;&nbsp;</span>Проверка гипотез</a></span><ul class=\"toc-item\"><li><span><a href=\"#Средняя-выручка-пользователей-тарифов-«Ультра»-и-«Смарт»-различается\" data-toc-modified-id=\"Средняя-выручка-пользователей-тарифов-«Ультра»-и-«Смарт»-различается-4.1\"><span class=\"toc-item-num\">4.1&nbsp;&nbsp;</span>Средняя выручка пользователей тарифов «Ультра» и «Смарт» различается</a></span></li><li><span><a href=\"#Средняя-выручка-пользователей-из-Москвы-отличается-от-выручки-пользователей-из-других-регионов\" data-toc-modified-id=\"Средняя-выручка-пользователей-из-Москвы-отличается-от-выручки-пользователей-из-других-регионов-4.2\"><span class=\"toc-item-num\">4.2&nbsp;&nbsp;</span>Средняя выручка пользователей из Москвы отличается от выручки пользователей из других регионов</a></span></li><li><span><a href=\"#Подсчет-валовой-выручки-с-пользователей-обоих-тарифов\" data-toc-modified-id=\"Подсчет-валовой-выручки-с-пользователей-обоих-тарифов-4.3\"><span class=\"toc-item-num\">4.3&nbsp;&nbsp;</span>Подсчет валовой выручки с пользователей обоих тарифов</a></span></li><li><span><a href=\"#Вывод\" data-toc-modified-id=\"Вывод-4.4\"><span class=\"toc-item-num\">4.4&nbsp;&nbsp;</span>Вывод</a></span></li></ul></li><li><span><a href=\"#Общий-вывод\" data-toc-modified-id=\"Общий-вывод-5\"><span class=\"toc-item-num\">5&nbsp;&nbsp;</span>Общий вывод</a></span><ul class=\"toc-item\"><li><span><a href=\"#Тарифы\" data-toc-modified-id=\"Тарифы-5.1\"><span class=\"toc-item-num\">5.1&nbsp;&nbsp;</span>Тарифы</a></span><ul class=\"toc-item\"><li><span><a href=\"#Статистика-по-тарифам\" data-toc-modified-id=\"Статистика-по-тарифам-5.1.1\"><span class=\"toc-item-num\">5.1.1&nbsp;&nbsp;</span>Статистика по тарифам</a></span></li><li><span><a href=\"#Лучший-тариф\" data-toc-modified-id=\"Лучший-тариф-5.1.2\"><span class=\"toc-item-num\">5.1.2&nbsp;&nbsp;</span>Лучший тариф</a></span></li></ul></li><li><span><a href=\"#Проверенные-гипотезы\" data-toc-modified-id=\"Проверенные-гипотезы-5.2\"><span class=\"toc-item-num\">5.2&nbsp;&nbsp;</span>Проверенные гипотезы</a></span><ul class=\"toc-item\"><li><span><a href=\"#Равенство-средних-выручек-на-обоих-тарифах\" data-toc-modified-id=\"Равенство-средних-выручек-на-обоих-тарифах-5.2.1\"><span class=\"toc-item-num\">5.2.1&nbsp;&nbsp;</span>Равенство средних выручек на обоих тарифах</a></span></li><li><span><a href=\"#Равенство-средних-выручек-в-Москве-и-в-других-регионах\" data-toc-modified-id=\"Равенство-средних-выручек-в-Москве-и-в-других-регионах-5.2.2\"><span class=\"toc-item-num\">5.2.2&nbsp;&nbsp;</span>Равенство средних выручек в Москве и в других регионах</a></span></li></ul></li><li><span><a href=\"#Лимиты-предоплаченных-услуг\" data-toc-modified-id=\"Лимиты-предоплаченных-услуг-5.3\"><span class=\"toc-item-num\">5.3&nbsp;&nbsp;</span>Лимиты предоплаченных услуг</a></span></li></ul></li></ul></div>"
   ]
  },
  {
   "cell_type": "markdown",
   "metadata": {},
   "source": [
    "\n",
    "**Подключение библиотек**"
   ]
  },
  {
   "cell_type": "code",
   "execution_count": 2,
   "metadata": {
    "pycharm": {
     "name": "#%%\n"
    }
   },
   "outputs": [
    {
     "name": "stdout",
     "output_type": "stream",
     "text": [
      "Requirement already satisfied: seaborn in c:\\users\\user\\pycharmprojects\\untitled2\\venv2\\lib\\site-packages (0.11.1)"
     ]
    },
    {
     "name": "stderr",
     "output_type": "stream",
     "text": [
      "WARNING: You are using pip version 21.1.3; however, version 21.2.2 is available.\n",
      "You should consider upgrading via the 'c:\\users\\user\\pycharmprojects\\untitled2\\venv2\\scripts\\python.exe -m pip install --upgrade pip' command.\n"
     ]
    },
    {
     "name": "stdout",
     "output_type": "stream",
     "text": [
      "\n",
      "Requirement already satisfied: scipy>=1.0 in c:\\users\\user\\pycharmprojects\\untitled2\\venv2\\lib\\site-packages (from seaborn) (1.6.2)\n",
      "Requirement already satisfied: pandas>=0.23 in c:\\users\\user\\pycharmprojects\\untitled2\\venv2\\lib\\site-packages (from seaborn) (1.2.4)\n",
      "Requirement already satisfied: numpy>=1.15 in c:\\users\\user\\pycharmprojects\\untitled2\\venv2\\lib\\site-packages (from seaborn) (1.20.2)\n",
      "Requirement already satisfied: matplotlib>=2.2 in c:\\users\\user\\pycharmprojects\\untitled2\\venv2\\lib\\site-packages (from seaborn) (3.4.1)\n",
      "Requirement already satisfied: pillow>=6.2.0 in c:\\users\\user\\pycharmprojects\\untitled2\\venv2\\lib\\site-packages (from matplotlib>=2.2->seaborn) (8.2.0)\n",
      "Requirement already satisfied: pyparsing>=2.2.1 in c:\\users\\user\\pycharmprojects\\untitled2\\venv2\\lib\\site-packages (from matplotlib>=2.2->seaborn) (2.4.7)\n",
      "Requirement already satisfied: kiwisolver>=1.0.1 in c:\\users\\user\\pycharmprojects\\untitled2\\venv2\\lib\\site-packages (from matplotlib>=2.2->seaborn) (1.3.1)\n",
      "Requirement already satisfied: cycler>=0.10 in c:\\users\\user\\pycharmprojects\\untitled2\\venv2\\lib\\site-packages (from matplotlib>=2.2->seaborn) (0.10.0)\n",
      "Requirement already satisfied: python-dateutil>=2.7 in c:\\users\\user\\pycharmprojects\\untitled2\\venv2\\lib\\site-packages (from matplotlib>=2.2->seaborn) (2.8.1)\n",
      "Requirement already satisfied: six in c:\\users\\user\\pycharmprojects\\untitled2\\venv2\\lib\\site-packages (from cycler>=0.10->matplotlib>=2.2->seaborn) (1.15.0)\n",
      "Requirement already satisfied: pytz>=2017.3 in c:\\users\\user\\pycharmprojects\\untitled2\\venv2\\lib\\site-packages (from pandas>=0.23->seaborn) (2021.1)\n"
     ]
    }
   ],
   "source": [
    "import pandas as pd\n",
    "import math\n",
    "import numpy as np\n",
    "from scipy import stats as st\n",
    "import matplotlib.pyplot as plt\n",
    "import seaborn as sns \n",
    "!pip install -U seaborn\n",
    "# нужно  обновить библиотеку"
   ]
  },
  {
   "cell_type": "markdown",
   "metadata": {},
   "source": [
    "## Изучение данных из файлов"
   ]
  },
  {
   "cell_type": "markdown",
   "metadata": {},
   "source": [
    "### Файл со звонками\n",
    "\n",
    "\n",
    "- id — уникальный номер звонка\n",
    "- call_date — дата звонка\n",
    "- duration — длительность звонка в минутах\n",
    "- user_id — идентификатор пользователя, сделавшего звонок"
   ]
  },
  {
   "cell_type": "code",
   "execution_count": 5,
   "metadata": {
    "pycharm": {
     "name": "#%%\n"
    }
   },
   "outputs": [
    {
     "name": "stdout",
     "output_type": "stream",
     "text": [
      "<class 'pandas.core.frame.DataFrame'>\n",
      "RangeIndex: 202607 entries, 0 to 202606\n",
      "Data columns (total 4 columns):\n",
      " #   Column     Non-Null Count   Dtype  \n",
      "---  ------     --------------   -----  \n",
      " 0   id         202607 non-null  object \n",
      " 1   call_date  202607 non-null  object \n",
      " 2   duration   202607 non-null  float64\n",
      " 3   user_id    202607 non-null  int64  \n",
      "dtypes: float64(1), int64(1), object(2)\n",
      "memory usage: 6.2+ MB\n"
     ]
    },
    {
     "data": {
      "text/html": [
       "<div>\n",
       "<style scoped>\n",
       "    .dataframe tbody tr th:only-of-type {\n",
       "        vertical-align: middle;\n",
       "    }\n",
       "\n",
       "    .dataframe tbody tr th {\n",
       "        vertical-align: top;\n",
       "    }\n",
       "\n",
       "    .dataframe thead th {\n",
       "        text-align: right;\n",
       "    }\n",
       "</style>\n",
       "<table border=\"1\" class=\"dataframe\">\n",
       "  <thead>\n",
       "    <tr style=\"text-align: right;\">\n",
       "      <th></th>\n",
       "      <th>id</th>\n",
       "      <th>call_date</th>\n",
       "      <th>duration</th>\n",
       "      <th>user_id</th>\n",
       "    </tr>\n",
       "  </thead>\n",
       "  <tbody>\n",
       "    <tr>\n",
       "      <th>0</th>\n",
       "      <td>1000_0</td>\n",
       "      <td>2018-07-25</td>\n",
       "      <td>0.00</td>\n",
       "      <td>1000</td>\n",
       "    </tr>\n",
       "    <tr>\n",
       "      <th>1</th>\n",
       "      <td>1000_1</td>\n",
       "      <td>2018-08-17</td>\n",
       "      <td>0.00</td>\n",
       "      <td>1000</td>\n",
       "    </tr>\n",
       "    <tr>\n",
       "      <th>2</th>\n",
       "      <td>1000_2</td>\n",
       "      <td>2018-06-11</td>\n",
       "      <td>2.85</td>\n",
       "      <td>1000</td>\n",
       "    </tr>\n",
       "    <tr>\n",
       "      <th>3</th>\n",
       "      <td>1000_3</td>\n",
       "      <td>2018-09-21</td>\n",
       "      <td>13.80</td>\n",
       "      <td>1000</td>\n",
       "    </tr>\n",
       "    <tr>\n",
       "      <th>4</th>\n",
       "      <td>1000_4</td>\n",
       "      <td>2018-12-15</td>\n",
       "      <td>5.18</td>\n",
       "      <td>1000</td>\n",
       "    </tr>\n",
       "  </tbody>\n",
       "</table>\n",
       "</div>"
      ],
      "text/plain": [
       "       id   call_date  duration  user_id\n",
       "0  1000_0  2018-07-25      0.00     1000\n",
       "1  1000_1  2018-08-17      0.00     1000\n",
       "2  1000_2  2018-06-11      2.85     1000\n",
       "3  1000_3  2018-09-21     13.80     1000\n",
       "4  1000_4  2018-12-15      5.18     1000"
      ]
     },
     "metadata": {},
     "output_type": "display_data"
    }
   ],
   "source": [
    "# функция создает датафрейм из csv файла и выводит общую информацию по нему\n",
    "def get_csv_info(csvpath):\n",
    "    df = pd.read_csv(csvpath) \n",
    "    df.info()\n",
    "    display(df.head())\n",
    "    return df\n",
    "\n",
    "calls = get_csv_info('datasets/calls.csv')"
   ]
  },
  {
   "cell_type": "markdown",
   "metadata": {},
   "source": [
    "### Файл с трафиком\n",
    "\n",
    "- id — уникальный номер сессии\n",
    "- mb_used — объём потраченного за сессию интернет-трафика (в мегабайтах)\n",
    "- session_date — дата интернет-сессии\n",
    "- user_id — идентификатор пользователя"
   ]
  },
  {
   "cell_type": "code",
   "execution_count": 6,
   "metadata": {
    "pycharm": {
     "name": "#%%\n"
    }
   },
   "outputs": [
    {
     "name": "stdout",
     "output_type": "stream",
     "text": [
      "<class 'pandas.core.frame.DataFrame'>\n",
      "RangeIndex: 149396 entries, 0 to 149395\n",
      "Data columns (total 5 columns):\n",
      " #   Column        Non-Null Count   Dtype  \n",
      "---  ------        --------------   -----  \n",
      " 0   Unnamed: 0    149396 non-null  int64  \n",
      " 1   id            149396 non-null  object \n",
      " 2   mb_used       149396 non-null  float64\n",
      " 3   session_date  149396 non-null  object \n",
      " 4   user_id       149396 non-null  int64  \n",
      "dtypes: float64(1), int64(2), object(2)\n",
      "memory usage: 5.7+ MB\n"
     ]
    },
    {
     "data": {
      "text/html": [
       "<div>\n",
       "<style scoped>\n",
       "    .dataframe tbody tr th:only-of-type {\n",
       "        vertical-align: middle;\n",
       "    }\n",
       "\n",
       "    .dataframe tbody tr th {\n",
       "        vertical-align: top;\n",
       "    }\n",
       "\n",
       "    .dataframe thead th {\n",
       "        text-align: right;\n",
       "    }\n",
       "</style>\n",
       "<table border=\"1\" class=\"dataframe\">\n",
       "  <thead>\n",
       "    <tr style=\"text-align: right;\">\n",
       "      <th></th>\n",
       "      <th>Unnamed: 0</th>\n",
       "      <th>id</th>\n",
       "      <th>mb_used</th>\n",
       "      <th>session_date</th>\n",
       "      <th>user_id</th>\n",
       "    </tr>\n",
       "  </thead>\n",
       "  <tbody>\n",
       "    <tr>\n",
       "      <th>0</th>\n",
       "      <td>0</td>\n",
       "      <td>1000_0</td>\n",
       "      <td>112.95</td>\n",
       "      <td>2018-11-25</td>\n",
       "      <td>1000</td>\n",
       "    </tr>\n",
       "    <tr>\n",
       "      <th>1</th>\n",
       "      <td>1</td>\n",
       "      <td>1000_1</td>\n",
       "      <td>1052.81</td>\n",
       "      <td>2018-09-07</td>\n",
       "      <td>1000</td>\n",
       "    </tr>\n",
       "    <tr>\n",
       "      <th>2</th>\n",
       "      <td>2</td>\n",
       "      <td>1000_2</td>\n",
       "      <td>1197.26</td>\n",
       "      <td>2018-06-25</td>\n",
       "      <td>1000</td>\n",
       "    </tr>\n",
       "    <tr>\n",
       "      <th>3</th>\n",
       "      <td>3</td>\n",
       "      <td>1000_3</td>\n",
       "      <td>550.27</td>\n",
       "      <td>2018-08-22</td>\n",
       "      <td>1000</td>\n",
       "    </tr>\n",
       "    <tr>\n",
       "      <th>4</th>\n",
       "      <td>4</td>\n",
       "      <td>1000_4</td>\n",
       "      <td>302.56</td>\n",
       "      <td>2018-09-24</td>\n",
       "      <td>1000</td>\n",
       "    </tr>\n",
       "  </tbody>\n",
       "</table>\n",
       "</div>"
      ],
      "text/plain": [
       "   Unnamed: 0      id  mb_used session_date  user_id\n",
       "0           0  1000_0   112.95   2018-11-25     1000\n",
       "1           1  1000_1  1052.81   2018-09-07     1000\n",
       "2           2  1000_2  1197.26   2018-06-25     1000\n",
       "3           3  1000_3   550.27   2018-08-22     1000\n",
       "4           4  1000_4   302.56   2018-09-24     1000"
      ]
     },
     "metadata": {},
     "output_type": "display_data"
    }
   ],
   "source": [
    "internet = get_csv_info('datasets/internet.csv')"
   ]
  },
  {
   "cell_type": "markdown",
   "metadata": {},
   "source": [
    "### Файл сообщений\n",
    "\n",
    "- id — уникальный номер сообщения\n",
    "- message_date — дата сообщения\n",
    "- user_id — идентификатор пользователя, отправившего сообщение"
   ]
  },
  {
   "cell_type": "code",
   "execution_count": 7,
   "metadata": {
    "pycharm": {
     "name": "#%%\n"
    }
   },
   "outputs": [
    {
     "name": "stdout",
     "output_type": "stream",
     "text": [
      "<class 'pandas.core.frame.DataFrame'>\n",
      "RangeIndex: 123036 entries, 0 to 123035\n",
      "Data columns (total 3 columns):\n",
      " #   Column        Non-Null Count   Dtype \n",
      "---  ------        --------------   ----- \n",
      " 0   id            123036 non-null  object\n",
      " 1   message_date  123036 non-null  object\n",
      " 2   user_id       123036 non-null  int64 \n",
      "dtypes: int64(1), object(2)\n",
      "memory usage: 2.8+ MB\n"
     ]
    },
    {
     "data": {
      "text/html": [
       "<div>\n",
       "<style scoped>\n",
       "    .dataframe tbody tr th:only-of-type {\n",
       "        vertical-align: middle;\n",
       "    }\n",
       "\n",
       "    .dataframe tbody tr th {\n",
       "        vertical-align: top;\n",
       "    }\n",
       "\n",
       "    .dataframe thead th {\n",
       "        text-align: right;\n",
       "    }\n",
       "</style>\n",
       "<table border=\"1\" class=\"dataframe\">\n",
       "  <thead>\n",
       "    <tr style=\"text-align: right;\">\n",
       "      <th></th>\n",
       "      <th>id</th>\n",
       "      <th>message_date</th>\n",
       "      <th>user_id</th>\n",
       "    </tr>\n",
       "  </thead>\n",
       "  <tbody>\n",
       "    <tr>\n",
       "      <th>0</th>\n",
       "      <td>1000_0</td>\n",
       "      <td>2018-06-27</td>\n",
       "      <td>1000</td>\n",
       "    </tr>\n",
       "    <tr>\n",
       "      <th>1</th>\n",
       "      <td>1000_1</td>\n",
       "      <td>2018-10-08</td>\n",
       "      <td>1000</td>\n",
       "    </tr>\n",
       "    <tr>\n",
       "      <th>2</th>\n",
       "      <td>1000_2</td>\n",
       "      <td>2018-08-04</td>\n",
       "      <td>1000</td>\n",
       "    </tr>\n",
       "    <tr>\n",
       "      <th>3</th>\n",
       "      <td>1000_3</td>\n",
       "      <td>2018-06-16</td>\n",
       "      <td>1000</td>\n",
       "    </tr>\n",
       "    <tr>\n",
       "      <th>4</th>\n",
       "      <td>1000_4</td>\n",
       "      <td>2018-12-05</td>\n",
       "      <td>1000</td>\n",
       "    </tr>\n",
       "  </tbody>\n",
       "</table>\n",
       "</div>"
      ],
      "text/plain": [
       "       id message_date  user_id\n",
       "0  1000_0   2018-06-27     1000\n",
       "1  1000_1   2018-10-08     1000\n",
       "2  1000_2   2018-08-04     1000\n",
       "3  1000_3   2018-06-16     1000\n",
       "4  1000_4   2018-12-05     1000"
      ]
     },
     "metadata": {},
     "output_type": "display_data"
    }
   ],
   "source": [
    "messages = get_csv_info('datasets/messages.csv')"
   ]
  },
  {
   "cell_type": "markdown",
   "metadata": {},
   "source": [
    "### Файл с тарифами\n",
    "\n",
    "- tariff_name — название тарифа\n",
    "- rub_monthly_fee — ежемесячная абонентская плата в рублях\n",
    "- minutes_included — количество минут разговора в месяц, включённых в абонентскую плату\n",
    "- messages_included — количество сообщений в месяц, включённых в абонентскую плату\n",
    "- mb_per_month_included — объём интернет-трафика, включённого в абонентскую плату (в мегабайтах)\n",
    "- rub_per_minute — стоимость минуты разговора сверх тарифного пакета (например, если в тарифе 100 минут разговора в месяц, то со 101 минуты будет взиматься плата)\n",
    "- rub_per_message — стоимость отправки сообщения сверх тарифного пакета\n",
    "- rub_per_gb — стоимость дополнительного гигабайта интернет-трафика сверх тарифного пакета (1 гигабайт = 1024 мегабайта)"
   ]
  },
  {
   "cell_type": "code",
   "execution_count": 8,
   "metadata": {
    "pycharm": {
     "name": "#%%\n"
    }
   },
   "outputs": [
    {
     "name": "stdout",
     "output_type": "stream",
     "text": [
      "<class 'pandas.core.frame.DataFrame'>\n",
      "RangeIndex: 2 entries, 0 to 1\n",
      "Data columns (total 8 columns):\n",
      " #   Column                 Non-Null Count  Dtype \n",
      "---  ------                 --------------  ----- \n",
      " 0   messages_included      2 non-null      int64 \n",
      " 1   mb_per_month_included  2 non-null      int64 \n",
      " 2   minutes_included       2 non-null      int64 \n",
      " 3   rub_monthly_fee        2 non-null      int64 \n",
      " 4   rub_per_gb             2 non-null      int64 \n",
      " 5   rub_per_message        2 non-null      int64 \n",
      " 6   rub_per_minute         2 non-null      int64 \n",
      " 7   tariff_name            2 non-null      object\n",
      "dtypes: int64(7), object(1)\n",
      "memory usage: 256.0+ bytes\n"
     ]
    },
    {
     "data": {
      "text/html": [
       "<div>\n",
       "<style scoped>\n",
       "    .dataframe tbody tr th:only-of-type {\n",
       "        vertical-align: middle;\n",
       "    }\n",
       "\n",
       "    .dataframe tbody tr th {\n",
       "        vertical-align: top;\n",
       "    }\n",
       "\n",
       "    .dataframe thead th {\n",
       "        text-align: right;\n",
       "    }\n",
       "</style>\n",
       "<table border=\"1\" class=\"dataframe\">\n",
       "  <thead>\n",
       "    <tr style=\"text-align: right;\">\n",
       "      <th></th>\n",
       "      <th>messages_included</th>\n",
       "      <th>mb_per_month_included</th>\n",
       "      <th>minutes_included</th>\n",
       "      <th>rub_monthly_fee</th>\n",
       "      <th>rub_per_gb</th>\n",
       "      <th>rub_per_message</th>\n",
       "      <th>rub_per_minute</th>\n",
       "      <th>tariff_name</th>\n",
       "    </tr>\n",
       "  </thead>\n",
       "  <tbody>\n",
       "    <tr>\n",
       "      <th>0</th>\n",
       "      <td>50</td>\n",
       "      <td>15360</td>\n",
       "      <td>500</td>\n",
       "      <td>550</td>\n",
       "      <td>200</td>\n",
       "      <td>3</td>\n",
       "      <td>3</td>\n",
       "      <td>smart</td>\n",
       "    </tr>\n",
       "    <tr>\n",
       "      <th>1</th>\n",
       "      <td>1000</td>\n",
       "      <td>30720</td>\n",
       "      <td>3000</td>\n",
       "      <td>1950</td>\n",
       "      <td>150</td>\n",
       "      <td>1</td>\n",
       "      <td>1</td>\n",
       "      <td>ultra</td>\n",
       "    </tr>\n",
       "  </tbody>\n",
       "</table>\n",
       "</div>"
      ],
      "text/plain": [
       "   messages_included  mb_per_month_included  minutes_included  \\\n",
       "0                 50                  15360               500   \n",
       "1               1000                  30720              3000   \n",
       "\n",
       "   rub_monthly_fee  rub_per_gb  rub_per_message  rub_per_minute tariff_name  \n",
       "0              550         200                3               3       smart  \n",
       "1             1950         150                1               1       ultra  "
      ]
     },
     "metadata": {},
     "output_type": "display_data"
    }
   ],
   "source": [
    "tariffs = get_csv_info('datasets/tariffs.csv')"
   ]
  },
  {
   "cell_type": "markdown",
   "metadata": {},
   "source": [
    "**Тариф «Смарт»**\n",
    "\n",
    "- Ежемесячная плата: 550 рублей\n",
    "- Включено 500 минут разговора, 50 сообщений и 15 Гб интернет-трафика\n",
    "- Стоимость услуг сверх тарифного пакета:\n",
    "- минута разговора: 3 рубля\n",
    "- сообщение: 3 рубля\n",
    "- 1 Гб интернет-трафика: 200 рублей\n",
    "\n",
    "\n",
    "**Тариф «Ультра»**\n",
    "- Ежемесячная плата: 1950 рублей\n",
    "- Включено 3000 минут разговора, 1000 сообщений и 30 Гб интернет-трафика\n",
    "- Стоимость услуг сверх тарифного пакета:\n",
    "- минута разговора: 1 рубль\n",
    "- сообщение: 1 рубль\n",
    "- 1 Гб интернет-трафика: 150 рублей"
   ]
  },
  {
   "cell_type": "markdown",
   "metadata": {},
   "source": [
    "Создадим словарь с данными по тарифам для быстрого доступа к этим данным"
   ]
  },
  {
   "cell_type": "code",
   "execution_count": 9,
   "metadata": {
    "pycharm": {
     "name": "#%%\n"
    }
   },
   "outputs": [
    {
     "data": {
      "text/plain": [
       "0    None\n",
       "1    None\n",
       "dtype: object"
      ]
     },
     "execution_count": 9,
     "metadata": {},
     "output_type": "execute_result"
    }
   ],
   "source": [
    "tariffs_data = dict()\n",
    "tariffs_columns = tariffs.columns\n",
    "\n",
    "def add_tariff_data(row):\n",
    "    tariff_name = row['tariff_name']\n",
    "    tariffs_data[tariff_name] =  dict()\n",
    "    for col in tariffs_columns:\n",
    "        tariffs_data[tariff_name][col] = row[col]\n",
    "\n",
    "tariffs.apply(add_tariff_data, axis=1)"
   ]
  },
  {
   "cell_type": "markdown",
   "metadata": {},
   "source": [
    "### Файл пользователи\n",
    "- user_id — уникальный идентификатор пользователя\n",
    "- first_name — имя пользователя\n",
    "- last_name — фамилия пользователя\n",
    "- age — возраст пользователя (годы)\n",
    "- reg_date — дата подключения тарифа (день, месяц, год)\n",
    "- churn_date — дата прекращения пользования тарифом (если значение пропущено, то тариф ещё действовал на момент выгрузки данных)\n",
    "- city — город проживания пользователя\n",
    "- tariff — название тарифного плана"
   ]
  },
  {
   "cell_type": "code",
   "execution_count": 11,
   "metadata": {
    "pycharm": {
     "name": "#%%\n"
    }
   },
   "outputs": [
    {
     "name": "stdout",
     "output_type": "stream",
     "text": [
      "<class 'pandas.core.frame.DataFrame'>\n",
      "RangeIndex: 500 entries, 0 to 499\n",
      "Data columns (total 8 columns):\n",
      " #   Column      Non-Null Count  Dtype \n",
      "---  ------      --------------  ----- \n",
      " 0   user_id     500 non-null    int64 \n",
      " 1   age         500 non-null    int64 \n",
      " 2   churn_date  38 non-null     object\n",
      " 3   city        500 non-null    object\n",
      " 4   first_name  500 non-null    object\n",
      " 5   last_name   500 non-null    object\n",
      " 6   reg_date    500 non-null    object\n",
      " 7   tariff      500 non-null    object\n",
      "dtypes: int64(2), object(6)\n",
      "memory usage: 31.4+ KB\n"
     ]
    },
    {
     "data": {
      "text/html": [
       "<div>\n",
       "<style scoped>\n",
       "    .dataframe tbody tr th:only-of-type {\n",
       "        vertical-align: middle;\n",
       "    }\n",
       "\n",
       "    .dataframe tbody tr th {\n",
       "        vertical-align: top;\n",
       "    }\n",
       "\n",
       "    .dataframe thead th {\n",
       "        text-align: right;\n",
       "    }\n",
       "</style>\n",
       "<table border=\"1\" class=\"dataframe\">\n",
       "  <thead>\n",
       "    <tr style=\"text-align: right;\">\n",
       "      <th></th>\n",
       "      <th>user_id</th>\n",
       "      <th>age</th>\n",
       "      <th>churn_date</th>\n",
       "      <th>city</th>\n",
       "      <th>first_name</th>\n",
       "      <th>last_name</th>\n",
       "      <th>reg_date</th>\n",
       "      <th>tariff</th>\n",
       "    </tr>\n",
       "  </thead>\n",
       "  <tbody>\n",
       "    <tr>\n",
       "      <th>0</th>\n",
       "      <td>1000</td>\n",
       "      <td>52</td>\n",
       "      <td>NaN</td>\n",
       "      <td>Краснодар</td>\n",
       "      <td>Рафаил</td>\n",
       "      <td>Верещагин</td>\n",
       "      <td>2018-05-25</td>\n",
       "      <td>ultra</td>\n",
       "    </tr>\n",
       "    <tr>\n",
       "      <th>1</th>\n",
       "      <td>1001</td>\n",
       "      <td>41</td>\n",
       "      <td>NaN</td>\n",
       "      <td>Москва</td>\n",
       "      <td>Иван</td>\n",
       "      <td>Ежов</td>\n",
       "      <td>2018-11-01</td>\n",
       "      <td>smart</td>\n",
       "    </tr>\n",
       "    <tr>\n",
       "      <th>2</th>\n",
       "      <td>1002</td>\n",
       "      <td>59</td>\n",
       "      <td>NaN</td>\n",
       "      <td>Стерлитамак</td>\n",
       "      <td>Евгений</td>\n",
       "      <td>Абрамович</td>\n",
       "      <td>2018-06-17</td>\n",
       "      <td>smart</td>\n",
       "    </tr>\n",
       "    <tr>\n",
       "      <th>3</th>\n",
       "      <td>1003</td>\n",
       "      <td>23</td>\n",
       "      <td>NaN</td>\n",
       "      <td>Москва</td>\n",
       "      <td>Белла</td>\n",
       "      <td>Белякова</td>\n",
       "      <td>2018-08-17</td>\n",
       "      <td>ultra</td>\n",
       "    </tr>\n",
       "    <tr>\n",
       "      <th>4</th>\n",
       "      <td>1004</td>\n",
       "      <td>68</td>\n",
       "      <td>NaN</td>\n",
       "      <td>Новокузнецк</td>\n",
       "      <td>Татьяна</td>\n",
       "      <td>Авдеенко</td>\n",
       "      <td>2018-05-14</td>\n",
       "      <td>ultra</td>\n",
       "    </tr>\n",
       "  </tbody>\n",
       "</table>\n",
       "</div>"
      ],
      "text/plain": [
       "   user_id  age churn_date         city first_name  last_name    reg_date  \\\n",
       "0     1000   52        NaN    Краснодар     Рафаил  Верещагин  2018-05-25   \n",
       "1     1001   41        NaN       Москва       Иван       Ежов  2018-11-01   \n",
       "2     1002   59        NaN  Стерлитамак    Евгений  Абрамович  2018-06-17   \n",
       "3     1003   23        NaN       Москва      Белла   Белякова  2018-08-17   \n",
       "4     1004   68        NaN  Новокузнецк    Татьяна   Авдеенко  2018-05-14   \n",
       "\n",
       "  tariff  \n",
       "0  ultra  \n",
       "1  smart  \n",
       "2  smart  \n",
       "3  ultra  \n",
       "4  ultra  "
      ]
     },
     "execution_count": 11,
     "metadata": {},
     "output_type": "execute_result"
    }
   ],
   "source": [
    "users = pd.read_csv('datasets/users.csv')\n",
    "users.info()\n",
    "users.head()"
   ]
  },
  {
   "cell_type": "markdown",
   "metadata": {},
   "source": [
    "### Вывод \n",
    "В данных есть пропуски только в одной колонке в одной таблице, которые не повлияют на дальнейшие исследования. Есть некорректно определенные типы. Исправим это на следующем шаге"
   ]
  },
  {
   "cell_type": "markdown",
   "metadata": {},
   "source": [
    "## Подготовка данных"
   ]
  },
  {
   "cell_type": "markdown",
   "metadata": {},
   "source": [
    "### Замена типов "
   ]
  },
  {
   "cell_type": "markdown",
   "metadata": {},
   "source": [
    "#### Звонки\n",
    "\n",
    "Пропуски отсутствуют. Неправильный тип у даты звонка. Заменим тип у этого поля."
   ]
  },
  {
   "cell_type": "code",
   "execution_count": 12,
   "metadata": {
    "pycharm": {
     "name": "#%%\n"
    }
   },
   "outputs": [],
   "source": [
    "date_format = '%Y-%m-%d'\n",
    "calls['call_date'] = pd.to_datetime(calls['call_date'], format = date_format)"
   ]
  },
  {
   "cell_type": "markdown",
   "metadata": {},
   "source": [
    "Длительность звонка необходимо округлить до целых в большую сторону - так их округляет оператор при подсчете."
   ]
  },
  {
   "cell_type": "markdown",
   "metadata": {},
   "source": [
    "#### Трафик"
   ]
  },
  {
   "cell_type": "markdown",
   "metadata": {},
   "source": [
    "Трафик необходимо округлить до целых в большую сторону - так округляет оператор при подсчете."
   ]
  },
  {
   "cell_type": "code",
   "execution_count": 13,
   "metadata": {
    "pycharm": {
     "name": "#%%\n"
    }
   },
   "outputs": [],
   "source": [
    "internet['mb_used']  =  np.ceil(internet['mb_used'])"
   ]
  },
  {
   "cell_type": "code",
   "execution_count": 14,
   "metadata": {
    "pycharm": {
     "name": "#%%\n"
    }
   },
   "outputs": [],
   "source": [
    "internet['mb_used']  =  np.ceil(internet['mb_used'])"
   ]
  },
  {
   "cell_type": "markdown",
   "metadata": {},
   "source": [
    "Неправильный тип у даты сессии. Заменим тип у этого поля."
   ]
  },
  {
   "cell_type": "code",
   "execution_count": 15,
   "metadata": {
    "pycharm": {
     "name": "#%%\n"
    }
   },
   "outputs": [],
   "source": [
    "internet['session_date'] = pd.to_datetime(internet['session_date'], format= date_format)"
   ]
  },
  {
   "cell_type": "markdown",
   "metadata": {},
   "source": [
    "#### Сообщения"
   ]
  },
  {
   "cell_type": "markdown",
   "metadata": {},
   "source": [
    "Неправильный тип у даты отправки ообщения. Заменим тип у этого поля."
   ]
  },
  {
   "cell_type": "code",
   "execution_count": 16,
   "metadata": {
    "pycharm": {
     "name": "#%%\n"
    }
   },
   "outputs": [],
   "source": [
    "messages['message_date'] = pd.to_datetime(messages['message_date'], format= date_format)"
   ]
  },
  {
   "cell_type": "markdown",
   "metadata": {},
   "source": [
    "#### Пользователи\n",
    "\n",
    "Неправильный тип у дат подключения и отключения тарифа. Заменим типы у этих полей."
   ]
  },
  {
   "cell_type": "code",
   "execution_count": 17,
   "metadata": {
    "pycharm": {
     "name": "#%%\n"
    }
   },
   "outputs": [],
   "source": [
    "users['reg_date']   = pd.to_datetime(users['reg_date'], format = date_format)\n",
    "users['churn_date'] = pd.to_datetime(users['churn_date'], format = date_format)"
   ]
  },
  {
   "cell_type": "markdown",
   "metadata": {},
   "source": [
    "### Проверка на наличие выбросов"
   ]
  },
  {
   "cell_type": "markdown",
   "metadata": {},
   "source": [
    "#### Звонки\n",
    "\n",
    "\n",
    "Рассмотрим диаграмму размаха по звонкам и основные показатели по этому столбцу"
   ]
  },
  {
   "cell_type": "code",
   "execution_count": 18,
   "metadata": {
    "pycharm": {
     "name": "#%%\n"
    }
   },
   "outputs": [
    {
     "data": {
      "image/png": "[encoded data removed]",
      "text/plain": [
       "<Figure size 432x288 with 1 Axes>"
      ]
     },
     "metadata": {
      "needs_background": "light"
     },
     "output_type": "display_data"
    }
   ],
   "source": [
    "ax = calls.boxplot(column=['duration'])\n",
    "ax.set_xlabel('Длительность звонка')\n",
    "plt.show()"
   ]
  },
  {
   "cell_type": "markdown",
   "metadata": {},
   "source": [
    "Видя данные по квартилям распределения, проанализируем распределение через IQR."
   ]
  },
  {
   "cell_type": "code",
   "execution_count": 19,
   "metadata": {
    "pycharm": {
     "name": "#%%\n"
    }
   },
   "outputs": [
    {
     "name": "stdout",
     "output_type": "stream",
     "text": [
      "count    202607.000000\n",
      "mean          6.755887\n",
      "std           5.843365\n",
      "min           0.000000\n",
      "25%           1.300000\n",
      "50%           6.000000\n",
      "75%          10.700000\n",
      "max          38.000000\n",
      "Name: duration, dtype: float64\n",
      "\n",
      "Нижний ус  -12.799999999999997\n",
      "Верхний ус  24.799999999999997\n"
     ]
    }
   ],
   "source": [
    "# функция считает IQR и показывает границы усов\n",
    "def calc_iqr(series): \n",
    "    \n",
    "    stats = series.describe()\n",
    "    \n",
    "    Q1 = stats['25%']\n",
    "    Q3 = stats['75%']\n",
    "    IQR = Q3 - Q1\n",
    "    \n",
    "    print(stats)\n",
    "    print()\n",
    "    print('Нижний ус ',  Q1 - 1.5 * IQR)\n",
    "    print('Верхний ус ', Q3 + 1.5 * IQR)\n",
    "    \n",
    "\n",
    "calc_iqr(calls['duration'])"
   ]
  },
  {
   "cell_type": "markdown",
   "metadata": {},
   "source": [
    "Посмотрим на звонки более 25 минут."
   ]
  },
  {
   "cell_type": "code",
   "execution_count": 20,
   "metadata": {
    "pycharm": {
     "name": "#%%\n"
    }
   },
   "outputs": [
    {
     "data": {
      "text/plain": [
       "678"
      ]
     },
     "execution_count": 20,
     "metadata": {},
     "output_type": "execute_result"
    }
   ],
   "source": [
    "long_calls = calls.query('duration > 25')\n",
    "len(long_calls)"
   ]
  },
  {
   "cell_type": "markdown",
   "metadata": {},
   "source": [
    "Всего 678 длинных звонков из 202607. Посмотрим их долю по длительности."
   ]
  },
  {
   "cell_type": "code",
   "execution_count": 21,
   "metadata": {
    "pycharm": {
     "name": "#%%\n"
    }
   },
   "outputs": [
    {
     "data": {
      "text/plain": [
       "0.013450054034583716"
      ]
     },
     "execution_count": 21,
     "metadata": {},
     "output_type": "execute_result"
    }
   ],
   "source": [
    "long_calls['duration'].sum() / calls['duration'].sum()"
   ]
  },
  {
   "cell_type": "markdown",
   "metadata": {},
   "source": [
    "Добавим данные по пользователям, чтобы получить информацию о тарифах\n"
   ]
  },
  {
   "cell_type": "code",
   "execution_count": 22,
   "metadata": {
    "pycharm": {
     "name": "#%%\n"
    }
   },
   "outputs": [],
   "source": [
    "long_calls = long_calls.merge(users, on='user_id', how='left')"
   ]
  },
  {
   "cell_type": "markdown",
   "metadata": {},
   "source": [
    "Посчитаем пользователей с длинными звонками на обоих тарифах"
   ]
  },
  {
   "cell_type": "code",
   "execution_count": 23,
   "metadata": {
    "pycharm": {
     "name": "#%%\n"
    }
   },
   "outputs": [
    {
     "data": {
      "text/plain": [
       "tariff\n",
       "smart    428\n",
       "ultra    250\n",
       "Name: user_id, dtype: int64"
      ]
     },
     "execution_count": 23,
     "metadata": {},
     "output_type": "execute_result"
    }
   ],
   "source": [
    "long_calls.groupby('tariff')['user_id'].count()"
   ]
  },
  {
   "cell_type": "markdown",
   "metadata": {},
   "source": [
    "Длинных звонков больше от пользователей тарифа Смарт. Посмотрим на соотношение тарифов в выборке пользователей"
   ]
  },
  {
   "cell_type": "code",
   "execution_count": 24,
   "metadata": {
    "pycharm": {
     "name": "#%%\n"
    }
   },
   "outputs": [
    {
     "data": {
      "text/plain": [
       "tariff\n",
       "smart    351\n",
       "ultra    149\n",
       "Name: user_id, dtype: int64"
      ]
     },
     "execution_count": 24,
     "metadata": {},
     "output_type": "execute_result"
    }
   ],
   "source": [
    "users.groupby('tariff')['user_id'].count()"
   ]
  },
  {
   "cell_type": "markdown",
   "metadata": {},
   "source": [
    "Пользователей тарифа Смарт также больше. Следовательно, и звонков от них больше. Корреляции между тарифом пользователя и наличием аномально длинных звонков не наблюдается. Доля длительных звонков чуть более одного процента."
   ]
  },
  {
   "cell_type": "markdown",
   "metadata": {},
   "source": [
    "#### Трафик \n",
    "\n",
    "Рассмотрим диаграмму размаха по трафику и основные показатели по этому столбцу"
   ]
  },
  {
   "cell_type": "code",
   "execution_count": 25,
   "metadata": {
    "pycharm": {
     "name": "#%%\n"
    }
   },
   "outputs": [
    {
     "data": {
      "image/png": "[encoded data removed]",
      "text/plain": [
       "<Figure size 432x288 with 1 Axes>"
      ]
     },
     "metadata": {
      "needs_background": "light"
     },
     "output_type": "display_data"
    }
   ],
   "source": [
    "ax = internet.boxplot(column=['mb_used'])\n",
    "ax.set_xlabel('Скачано за сессию')\n",
    "plt.show()"
   ]
  },
  {
   "cell_type": "code",
   "execution_count": 26,
   "metadata": {
    "pycharm": {
     "name": "#%%\n"
    }
   },
   "outputs": [
    {
     "name": "stdout",
     "output_type": "stream",
     "text": [
      "count    149396.000000\n",
      "mean        370.622098\n",
      "std         278.387019\n",
      "min           0.000000\n",
      "25%         139.000000\n",
      "50%         349.000000\n",
      "75%         560.000000\n",
      "max        1725.000000\n",
      "Name: mb_used, dtype: float64\n",
      "\n",
      "Нижний ус  -492.5\n",
      "Верхний ус  1191.5\n"
     ]
    }
   ],
   "source": [
    "calc_iqr(internet['mb_used'])"
   ]
  },
  {
   "cell_type": "code",
   "execution_count": 27,
   "metadata": {
    "pycharm": {
     "name": "#%%\n"
    }
   },
   "outputs": [],
   "source": [
    "internet = internet.query('mb_used < 1192')"
   ]
  },
  {
   "cell_type": "markdown",
   "metadata": {},
   "source": [
    "#### Сообщения \n",
    "\n",
    "Рассмотрим диаграмму размаха по сообщениям и основные показатели"
   ]
  },
  {
   "cell_type": "code",
   "execution_count": 28,
   "metadata": {
    "pycharm": {
     "name": "#%%\n"
    }
   },
   "outputs": [
    {
     "data": {
      "image/png": "[encoded data removed]",
      "text/plain": [
       "<Figure size 432x288 with 1 Axes>"
      ]
     },
     "metadata": {
      "needs_background": "light"
     },
     "output_type": "display_data"
    }
   ],
   "source": [
    "# посчитаем сколько сообщений отправил каждый пользователь\n",
    "messages_pivot = messages.pivot_table(index='user_id', values='id', aggfunc='count') \n",
    "\n",
    "ax = messages_pivot.boxplot(column=['id']) # построим диаграмму размаха\n",
    "ax.set_xlabel('Отправлено сообщений')\n",
    "plt.show()"
   ]
  },
  {
   "cell_type": "code",
   "execution_count": 29,
   "metadata": {
    "pycharm": {
     "name": "#%%\n"
    }
   },
   "outputs": [
    {
     "name": "stdout",
     "output_type": "stream",
     "text": [
      "count     426.000000\n",
      "mean      288.816901\n",
      "std       267.607552\n",
      "min         1.000000\n",
      "25%        85.750000\n",
      "50%       215.500000\n",
      "75%       414.000000\n",
      "max      1463.000000\n",
      "Name: id, dtype: float64\n",
      "\n",
      "Нижний ус  -406.625\n",
      "Верхний ус  906.375\n"
     ]
    }
   ],
   "source": [
    "calc_iqr(messages_pivot['id'])"
   ]
  },
  {
   "cell_type": "markdown",
   "metadata": {},
   "source": [
    "Есть пользователи, которые отправляют более 907 сообщений в год, что можно считать аномалией. Рассмотрим пользователей, которые отправляют большое число сообщений"
   ]
  },
  {
   "cell_type": "code",
   "execution_count": 30,
   "metadata": {
    "pycharm": {
     "name": "#%%\n"
    }
   },
   "outputs": [],
   "source": [
    "messages_senders = messages_pivot.query('id > 907')"
   ]
  },
  {
   "cell_type": "markdown",
   "metadata": {},
   "source": [
    "Добавим данные по тарифам"
   ]
  },
  {
   "cell_type": "code",
   "execution_count": 31,
   "metadata": {
    "pycharm": {
     "name": "#%%\n"
    }
   },
   "outputs": [
    {
     "data": {
      "text/html": [
       "<div>\n",
       "<style scoped>\n",
       "    .dataframe tbody tr th:only-of-type {\n",
       "        vertical-align: middle;\n",
       "    }\n",
       "\n",
       "    .dataframe tbody tr th {\n",
       "        vertical-align: top;\n",
       "    }\n",
       "\n",
       "    .dataframe thead th {\n",
       "        text-align: right;\n",
       "    }\n",
       "</style>\n",
       "<table border=\"1\" class=\"dataframe\">\n",
       "  <thead>\n",
       "    <tr style=\"text-align: right;\">\n",
       "      <th></th>\n",
       "      <th>user_id</th>\n",
       "      <th>id</th>\n",
       "      <th>age</th>\n",
       "      <th>churn_date</th>\n",
       "      <th>city</th>\n",
       "      <th>first_name</th>\n",
       "      <th>last_name</th>\n",
       "      <th>reg_date</th>\n",
       "      <th>tariff</th>\n",
       "    </tr>\n",
       "  </thead>\n",
       "  <tbody>\n",
       "    <tr>\n",
       "      <th>0</th>\n",
       "      <td>1004</td>\n",
       "      <td>1192</td>\n",
       "      <td>68</td>\n",
       "      <td>NaT</td>\n",
       "      <td>Новокузнецк</td>\n",
       "      <td>Татьяна</td>\n",
       "      <td>Авдеенко</td>\n",
       "      <td>2018-05-14</td>\n",
       "      <td>ultra</td>\n",
       "    </tr>\n",
       "    <tr>\n",
       "      <th>1</th>\n",
       "      <td>1089</td>\n",
       "      <td>1408</td>\n",
       "      <td>19</td>\n",
       "      <td>NaT</td>\n",
       "      <td>Иркутск</td>\n",
       "      <td>Ксения</td>\n",
       "      <td>Нечаева</td>\n",
       "      <td>2018-02-24</td>\n",
       "      <td>ultra</td>\n",
       "    </tr>\n",
       "    <tr>\n",
       "      <th>2</th>\n",
       "      <td>1196</td>\n",
       "      <td>1120</td>\n",
       "      <td>25</td>\n",
       "      <td>NaT</td>\n",
       "      <td>Воронеж</td>\n",
       "      <td>Фёдор</td>\n",
       "      <td>Чернышев</td>\n",
       "      <td>2018-05-28</td>\n",
       "      <td>ultra</td>\n",
       "    </tr>\n",
       "    <tr>\n",
       "      <th>3</th>\n",
       "      <td>1231</td>\n",
       "      <td>1384</td>\n",
       "      <td>63</td>\n",
       "      <td>NaT</td>\n",
       "      <td>Чебоксары</td>\n",
       "      <td>Касьян</td>\n",
       "      <td>Авдюков</td>\n",
       "      <td>2018-05-23</td>\n",
       "      <td>ultra</td>\n",
       "    </tr>\n",
       "    <tr>\n",
       "      <th>4</th>\n",
       "      <td>1251</td>\n",
       "      <td>935</td>\n",
       "      <td>48</td>\n",
       "      <td>NaT</td>\n",
       "      <td>Пермь</td>\n",
       "      <td>Роксана</td>\n",
       "      <td>Тетерина</td>\n",
       "      <td>2018-02-13</td>\n",
       "      <td>smart</td>\n",
       "    </tr>\n",
       "    <tr>\n",
       "      <th>5</th>\n",
       "      <td>1257</td>\n",
       "      <td>917</td>\n",
       "      <td>21</td>\n",
       "      <td>NaT</td>\n",
       "      <td>Санкт-Петербург</td>\n",
       "      <td>Габриель</td>\n",
       "      <td>Жданов</td>\n",
       "      <td>2018-06-17</td>\n",
       "      <td>ultra</td>\n",
       "    </tr>\n",
       "    <tr>\n",
       "      <th>6</th>\n",
       "      <td>1277</td>\n",
       "      <td>1463</td>\n",
       "      <td>30</td>\n",
       "      <td>NaT</td>\n",
       "      <td>Новосибирск</td>\n",
       "      <td>Валерия</td>\n",
       "      <td>Андреенко</td>\n",
       "      <td>2018-02-19</td>\n",
       "      <td>ultra</td>\n",
       "    </tr>\n",
       "    <tr>\n",
       "      <th>7</th>\n",
       "      <td>1285</td>\n",
       "      <td>1089</td>\n",
       "      <td>44</td>\n",
       "      <td>NaT</td>\n",
       "      <td>Краснодар</td>\n",
       "      <td>Ефим</td>\n",
       "      <td>Амельченко</td>\n",
       "      <td>2018-02-20</td>\n",
       "      <td>smart</td>\n",
       "    </tr>\n",
       "    <tr>\n",
       "      <th>8</th>\n",
       "      <td>1300</td>\n",
       "      <td>924</td>\n",
       "      <td>40</td>\n",
       "      <td>NaT</td>\n",
       "      <td>Москва</td>\n",
       "      <td>Тихон</td>\n",
       "      <td>Азерников</td>\n",
       "      <td>2018-07-26</td>\n",
       "      <td>ultra</td>\n",
       "    </tr>\n",
       "    <tr>\n",
       "      <th>9</th>\n",
       "      <td>1324</td>\n",
       "      <td>944</td>\n",
       "      <td>25</td>\n",
       "      <td>NaT</td>\n",
       "      <td>Череповец</td>\n",
       "      <td>Дайна</td>\n",
       "      <td>Березина</td>\n",
       "      <td>2018-05-28</td>\n",
       "      <td>smart</td>\n",
       "    </tr>\n",
       "    <tr>\n",
       "      <th>10</th>\n",
       "      <td>1344</td>\n",
       "      <td>1125</td>\n",
       "      <td>60</td>\n",
       "      <td>NaT</td>\n",
       "      <td>Воронеж</td>\n",
       "      <td>Илзе</td>\n",
       "      <td>Игнатьева</td>\n",
       "      <td>2018-04-03</td>\n",
       "      <td>ultra</td>\n",
       "    </tr>\n",
       "    <tr>\n",
       "      <th>11</th>\n",
       "      <td>1356</td>\n",
       "      <td>1224</td>\n",
       "      <td>75</td>\n",
       "      <td>NaT</td>\n",
       "      <td>Москва</td>\n",
       "      <td>Евгений</td>\n",
       "      <td>Гончаров</td>\n",
       "      <td>2018-04-18</td>\n",
       "      <td>ultra</td>\n",
       "    </tr>\n",
       "    <tr>\n",
       "      <th>12</th>\n",
       "      <td>1385</td>\n",
       "      <td>1380</td>\n",
       "      <td>26</td>\n",
       "      <td>NaT</td>\n",
       "      <td>Москва</td>\n",
       "      <td>Алиса</td>\n",
       "      <td>Дубинина</td>\n",
       "      <td>2018-01-13</td>\n",
       "      <td>ultra</td>\n",
       "    </tr>\n",
       "    <tr>\n",
       "      <th>13</th>\n",
       "      <td>1396</td>\n",
       "      <td>936</td>\n",
       "      <td>23</td>\n",
       "      <td>NaT</td>\n",
       "      <td>Пенза</td>\n",
       "      <td>Эльга</td>\n",
       "      <td>Савельева</td>\n",
       "      <td>2018-01-12</td>\n",
       "      <td>ultra</td>\n",
       "    </tr>\n",
       "    <tr>\n",
       "      <th>14</th>\n",
       "      <td>1433</td>\n",
       "      <td>1092</td>\n",
       "      <td>71</td>\n",
       "      <td>NaT</td>\n",
       "      <td>Подольск</td>\n",
       "      <td>Клариса</td>\n",
       "      <td>Алёшкова</td>\n",
       "      <td>2018-01-05</td>\n",
       "      <td>smart</td>\n",
       "    </tr>\n",
       "    <tr>\n",
       "      <th>15</th>\n",
       "      <td>1471</td>\n",
       "      <td>924</td>\n",
       "      <td>35</td>\n",
       "      <td>NaT</td>\n",
       "      <td>Вологда</td>\n",
       "      <td>Элеонора</td>\n",
       "      <td>Гаврилова</td>\n",
       "      <td>2018-02-26</td>\n",
       "      <td>ultra</td>\n",
       "    </tr>\n",
       "  </tbody>\n",
       "</table>\n",
       "</div>"
      ],
      "text/plain": [
       "    user_id    id  age churn_date             city first_name   last_name  \\\n",
       "0      1004  1192   68        NaT      Новокузнецк    Татьяна    Авдеенко   \n",
       "1      1089  1408   19        NaT          Иркутск     Ксения     Нечаева   \n",
       "2      1196  1120   25        NaT          Воронеж      Фёдор    Чернышев   \n",
       "3      1231  1384   63        NaT        Чебоксары     Касьян     Авдюков   \n",
       "4      1251   935   48        NaT            Пермь    Роксана    Тетерина   \n",
       "5      1257   917   21        NaT  Санкт-Петербург   Габриель      Жданов   \n",
       "6      1277  1463   30        NaT      Новосибирск    Валерия   Андреенко   \n",
       "7      1285  1089   44        NaT        Краснодар       Ефим  Амельченко   \n",
       "8      1300   924   40        NaT           Москва      Тихон   Азерников   \n",
       "9      1324   944   25        NaT        Череповец      Дайна    Березина   \n",
       "10     1344  1125   60        NaT          Воронеж       Илзе   Игнатьева   \n",
       "11     1356  1224   75        NaT           Москва    Евгений    Гончаров   \n",
       "12     1385  1380   26        NaT           Москва      Алиса    Дубинина   \n",
       "13     1396   936   23        NaT            Пенза      Эльга   Савельева   \n",
       "14     1433  1092   71        NaT         Подольск    Клариса    Алёшкова   \n",
       "15     1471   924   35        NaT          Вологда   Элеонора   Гаврилова   \n",
       "\n",
       "     reg_date tariff  \n",
       "0  2018-05-14  ultra  \n",
       "1  2018-02-24  ultra  \n",
       "2  2018-05-28  ultra  \n",
       "3  2018-05-23  ultra  \n",
       "4  2018-02-13  smart  \n",
       "5  2018-06-17  ultra  \n",
       "6  2018-02-19  ultra  \n",
       "7  2018-02-20  smart  \n",
       "8  2018-07-26  ultra  \n",
       "9  2018-05-28  smart  \n",
       "10 2018-04-03  ultra  \n",
       "11 2018-04-18  ultra  \n",
       "12 2018-01-13  ultra  \n",
       "13 2018-01-12  ultra  \n",
       "14 2018-01-05  smart  \n",
       "15 2018-02-26  ultra  "
      ]
     },
     "execution_count": 31,
     "metadata": {},
     "output_type": "execute_result"
    }
   ],
   "source": [
    "messages_senders = messages_senders.merge(users, on='user_id', how='left')\n",
    "messages_senders"
   ]
  },
  {
   "cell_type": "markdown",
   "metadata": {},
   "source": [
    "16 человек из 500 шлют стабильно много сообщений. Это относительно большое число, которое может повлиять на выручку. Удалять эти выбросы не будем"
   ]
  },
  {
   "cell_type": "markdown",
   "metadata": {},
   "source": [
    "Данные получены от провайдера, а не собраны вручную. Избавляться от выбросов не нужно."
   ]
  },
  {
   "cell_type": "markdown",
   "metadata": {},
   "source": [
    "### Агрегация данных "
   ]
  },
  {
   "cell_type": "markdown",
   "metadata": {},
   "source": [
    "#### Агрегация данных по звонкам\n",
    "\n",
    "Добавим колонку месяц в данные по звонкам"
   ]
  },
  {
   "cell_type": "code",
   "execution_count": 32,
   "metadata": {
    "pycharm": {
     "name": "#%%\n"
    }
   },
   "outputs": [],
   "source": [
    "calls['month']   = calls['call_date'].dt.month_name() # колонка с названиями месяцев\n",
    "calls['month_num'] = pd.DatetimeIndex(calls['call_date']).month # колонка с порядковыми номерами месяцев"
   ]
  },
  {
   "cell_type": "markdown",
   "metadata": {},
   "source": [
    "Создадим словарь с номерами месяцев, которые у записаны текстом"
   ]
  },
  {
   "cell_type": "code",
   "execution_count": 33,
   "metadata": {
    "pycharm": {
     "name": "#%%\n"
    }
   },
   "outputs": [],
   "source": [
    "month_names = calls['month'].unique() \n",
    "month_nums = calls['month_num'].unique()\n",
    "month_names_nums = dict(zip(month_names, month_nums))"
   ]
  },
  {
   "cell_type": "markdown",
   "metadata": {},
   "source": [
    "Создадим сводную таблицу звонков пользователей по месяцам"
   ]
  },
  {
   "cell_type": "code",
   "execution_count": 34,
   "metadata": {
    "pycharm": {
     "name": "#%%\n"
    }
   },
   "outputs": [
    {
     "data": {
      "text/html": [
       "<div>\n",
       "<style scoped>\n",
       "    .dataframe tbody tr th:only-of-type {\n",
       "        vertical-align: middle;\n",
       "    }\n",
       "\n",
       "    .dataframe tbody tr th {\n",
       "        vertical-align: top;\n",
       "    }\n",
       "\n",
       "    .dataframe thead tr th {\n",
       "        text-align: left;\n",
       "    }\n",
       "\n",
       "    .dataframe thead tr:last-of-type th {\n",
       "        text-align: right;\n",
       "    }\n",
       "</style>\n",
       "<table border=\"1\" class=\"dataframe\">\n",
       "  <thead>\n",
       "    <tr>\n",
       "      <th></th>\n",
       "      <th></th>\n",
       "      <th>count</th>\n",
       "      <th>sum</th>\n",
       "    </tr>\n",
       "    <tr>\n",
       "      <th></th>\n",
       "      <th></th>\n",
       "      <th>duration</th>\n",
       "      <th>duration</th>\n",
       "    </tr>\n",
       "    <tr>\n",
       "      <th>month</th>\n",
       "      <th>user_id</th>\n",
       "      <th></th>\n",
       "      <th></th>\n",
       "    </tr>\n",
       "  </thead>\n",
       "  <tbody>\n",
       "    <tr>\n",
       "      <th rowspan=\"5\" valign=\"top\">April</th>\n",
       "      <th>1005</th>\n",
       "      <td>101</td>\n",
       "      <td>670.20</td>\n",
       "    </tr>\n",
       "    <tr>\n",
       "      <th>1006</th>\n",
       "      <td>47</td>\n",
       "      <td>332.32</td>\n",
       "    </tr>\n",
       "    <tr>\n",
       "      <th>1007</th>\n",
       "      <td>25</td>\n",
       "      <td>187.06</td>\n",
       "    </tr>\n",
       "    <tr>\n",
       "      <th>1009</th>\n",
       "      <td>39</td>\n",
       "      <td>306.55</td>\n",
       "    </tr>\n",
       "    <tr>\n",
       "      <th>1011</th>\n",
       "      <td>62</td>\n",
       "      <td>351.18</td>\n",
       "    </tr>\n",
       "    <tr>\n",
       "      <th>...</th>\n",
       "      <th>...</th>\n",
       "      <td>...</td>\n",
       "      <td>...</td>\n",
       "    </tr>\n",
       "    <tr>\n",
       "      <th rowspan=\"4\" valign=\"top\">September</th>\n",
       "      <th>1495</th>\n",
       "      <td>112</td>\n",
       "      <td>766.62</td>\n",
       "    </tr>\n",
       "    <tr>\n",
       "      <th>1496</th>\n",
       "      <td>68</td>\n",
       "      <td>457.39</td>\n",
       "    </tr>\n",
       "    <tr>\n",
       "      <th>1498</th>\n",
       "      <td>59</td>\n",
       "      <td>446.68</td>\n",
       "    </tr>\n",
       "    <tr>\n",
       "      <th>1499</th>\n",
       "      <td>9</td>\n",
       "      <td>64.65</td>\n",
       "    </tr>\n",
       "    <tr>\n",
       "      <th>All</th>\n",
       "      <th></th>\n",
       "      <td>202607</td>\n",
       "      <td>1368790.04</td>\n",
       "    </tr>\n",
       "  </tbody>\n",
       "</table>\n",
       "<p>3175 rows × 2 columns</p>\n",
       "</div>"
      ],
      "text/plain": [
       "                     count         sum\n",
       "                  duration    duration\n",
       "month     user_id                     \n",
       "April     1005         101      670.20\n",
       "          1006          47      332.32\n",
       "          1007          25      187.06\n",
       "          1009          39      306.55\n",
       "          1011          62      351.18\n",
       "...                    ...         ...\n",
       "September 1495         112      766.62\n",
       "          1496          68      457.39\n",
       "          1498          59      446.68\n",
       "          1499           9       64.65\n",
       "All                 202607  1368790.04\n",
       "\n",
       "[3175 rows x 2 columns]"
      ]
     },
     "execution_count": 34,
     "metadata": {},
     "output_type": "execute_result"
    }
   ],
   "source": [
    "pivot = calls.pivot_table(index=['month', 'user_id' ], values='duration', aggfunc= ['count','sum'], margins=True)\n",
    "pivot "
   ]
  },
  {
   "cell_type": "markdown",
   "metadata": {},
   "source": [
    "Обновим индекс, чтобы не было мультииндекса "
   ]
  },
  {
   "cell_type": "code",
   "execution_count": 35,
   "metadata": {
    "pycharm": {
     "name": "#%%\n"
    }
   },
   "outputs": [
    {
     "name": "stdout",
     "output_type": "stream",
     "text": [
      "<class 'pandas.core.frame.DataFrame'>\n",
      "RangeIndex: 3175 entries, 0 to 3174\n",
      "Data columns (total 4 columns):\n",
      " #   Column          Non-Null Count  Dtype  \n",
      "---  ------          --------------  -----  \n",
      " 0   month           3175 non-null   object \n",
      " 1   user_id         3175 non-null   object \n",
      " 2   calls_count     3175 non-null   int64  \n",
      " 3   calls_duration  3175 non-null   float64\n",
      "dtypes: float64(1), int64(1), object(2)\n",
      "memory usage: 99.3+ KB\n"
     ]
    },
    {
     "data": {
      "text/html": [
       "<div>\n",
       "<style scoped>\n",
       "    .dataframe tbody tr th:only-of-type {\n",
       "        vertical-align: middle;\n",
       "    }\n",
       "\n",
       "    .dataframe tbody tr th {\n",
       "        vertical-align: top;\n",
       "    }\n",
       "\n",
       "    .dataframe thead th {\n",
       "        text-align: right;\n",
       "    }\n",
       "</style>\n",
       "<table border=\"1\" class=\"dataframe\">\n",
       "  <thead>\n",
       "    <tr style=\"text-align: right;\">\n",
       "      <th></th>\n",
       "      <th>month</th>\n",
       "      <th>user_id</th>\n",
       "      <th>calls_count</th>\n",
       "      <th>calls_duration</th>\n",
       "    </tr>\n",
       "  </thead>\n",
       "  <tbody>\n",
       "    <tr>\n",
       "      <th>0</th>\n",
       "      <td>April</td>\n",
       "      <td>1005</td>\n",
       "      <td>101</td>\n",
       "      <td>670.20</td>\n",
       "    </tr>\n",
       "    <tr>\n",
       "      <th>1</th>\n",
       "      <td>April</td>\n",
       "      <td>1006</td>\n",
       "      <td>47</td>\n",
       "      <td>332.32</td>\n",
       "    </tr>\n",
       "    <tr>\n",
       "      <th>2</th>\n",
       "      <td>April</td>\n",
       "      <td>1007</td>\n",
       "      <td>25</td>\n",
       "      <td>187.06</td>\n",
       "    </tr>\n",
       "    <tr>\n",
       "      <th>3</th>\n",
       "      <td>April</td>\n",
       "      <td>1009</td>\n",
       "      <td>39</td>\n",
       "      <td>306.55</td>\n",
       "    </tr>\n",
       "    <tr>\n",
       "      <th>4</th>\n",
       "      <td>April</td>\n",
       "      <td>1011</td>\n",
       "      <td>62</td>\n",
       "      <td>351.18</td>\n",
       "    </tr>\n",
       "    <tr>\n",
       "      <th>...</th>\n",
       "      <td>...</td>\n",
       "      <td>...</td>\n",
       "      <td>...</td>\n",
       "      <td>...</td>\n",
       "    </tr>\n",
       "    <tr>\n",
       "      <th>3170</th>\n",
       "      <td>September</td>\n",
       "      <td>1495</td>\n",
       "      <td>112</td>\n",
       "      <td>766.62</td>\n",
       "    </tr>\n",
       "    <tr>\n",
       "      <th>3171</th>\n",
       "      <td>September</td>\n",
       "      <td>1496</td>\n",
       "      <td>68</td>\n",
       "      <td>457.39</td>\n",
       "    </tr>\n",
       "    <tr>\n",
       "      <th>3172</th>\n",
       "      <td>September</td>\n",
       "      <td>1498</td>\n",
       "      <td>59</td>\n",
       "      <td>446.68</td>\n",
       "    </tr>\n",
       "    <tr>\n",
       "      <th>3173</th>\n",
       "      <td>September</td>\n",
       "      <td>1499</td>\n",
       "      <td>9</td>\n",
       "      <td>64.65</td>\n",
       "    </tr>\n",
       "    <tr>\n",
       "      <th>3174</th>\n",
       "      <td>All</td>\n",
       "      <td></td>\n",
       "      <td>202607</td>\n",
       "      <td>1368790.04</td>\n",
       "    </tr>\n",
       "  </tbody>\n",
       "</table>\n",
       "<p>3175 rows × 4 columns</p>\n",
       "</div>"
      ],
      "text/plain": [
       "          month user_id  calls_count  calls_duration\n",
       "0         April    1005          101          670.20\n",
       "1         April    1006           47          332.32\n",
       "2         April    1007           25          187.06\n",
       "3         April    1009           39          306.55\n",
       "4         April    1011           62          351.18\n",
       "...         ...     ...          ...             ...\n",
       "3170  September    1495          112          766.62\n",
       "3171  September    1496           68          457.39\n",
       "3172  September    1498           59          446.68\n",
       "3173  September    1499            9           64.65\n",
       "3174        All               202607      1368790.04\n",
       "\n",
       "[3175 rows x 4 columns]"
      ]
     },
     "execution_count": 35,
     "metadata": {},
     "output_type": "execute_result"
    }
   ],
   "source": [
    "pivot.reset_index(inplace=True)\n",
    "pivot.columns = ['month', 'user_id','calls_count','calls_duration']\n",
    "pivot.info()\n",
    "pivot"
   ]
  },
  {
   "cell_type": "markdown",
   "metadata": {},
   "source": [
    "#### Агрегация данных по сообщениям \n",
    "\n",
    "Добавим колонку месяц в данные по сообщениям"
   ]
  },
  {
   "cell_type": "code",
   "execution_count": 36,
   "metadata": {
    "pycharm": {
     "name": "#%%\n"
    }
   },
   "outputs": [],
   "source": [
    "messages['month'] = messages['message_date'].dt.month_name()"
   ]
  },
  {
   "cell_type": "markdown",
   "metadata": {},
   "source": [
    "Создадим сводную таблицу количества сообщений пользователей по месяцам"
   ]
  },
  {
   "cell_type": "code",
   "execution_count": 37,
   "metadata": {
    "pycharm": {
     "name": "#%%\n"
    }
   },
   "outputs": [
    {
     "data": {
      "text/html": [
       "<div>\n",
       "<style scoped>\n",
       "    .dataframe tbody tr th:only-of-type {\n",
       "        vertical-align: middle;\n",
       "    }\n",
       "\n",
       "    .dataframe tbody tr th {\n",
       "        vertical-align: top;\n",
       "    }\n",
       "\n",
       "    .dataframe thead th {\n",
       "        text-align: right;\n",
       "    }\n",
       "</style>\n",
       "<table border=\"1\" class=\"dataframe\">\n",
       "  <thead>\n",
       "    <tr style=\"text-align: right;\">\n",
       "      <th></th>\n",
       "      <th></th>\n",
       "      <th>id</th>\n",
       "    </tr>\n",
       "    <tr>\n",
       "      <th>month</th>\n",
       "      <th>user_id</th>\n",
       "      <th></th>\n",
       "    </tr>\n",
       "  </thead>\n",
       "  <tbody>\n",
       "    <tr>\n",
       "      <th rowspan=\"5\" valign=\"top\">April</th>\n",
       "      <th>1005</th>\n",
       "      <td>41</td>\n",
       "    </tr>\n",
       "    <tr>\n",
       "      <th>1007</th>\n",
       "      <td>11</td>\n",
       "    </tr>\n",
       "    <tr>\n",
       "      <th>1009</th>\n",
       "      <td>14</td>\n",
       "    </tr>\n",
       "    <tr>\n",
       "      <th>1011</th>\n",
       "      <td>7</td>\n",
       "    </tr>\n",
       "    <tr>\n",
       "      <th>1012</th>\n",
       "      <td>21</td>\n",
       "    </tr>\n",
       "    <tr>\n",
       "      <th>...</th>\n",
       "      <th>...</th>\n",
       "      <td>...</td>\n",
       "    </tr>\n",
       "    <tr>\n",
       "      <th rowspan=\"5\" valign=\"top\">September</th>\n",
       "      <th>1492</th>\n",
       "      <td>10</td>\n",
       "    </tr>\n",
       "    <tr>\n",
       "      <th>1495</th>\n",
       "      <td>82</td>\n",
       "    </tr>\n",
       "    <tr>\n",
       "      <th>1496</th>\n",
       "      <td>29</td>\n",
       "    </tr>\n",
       "    <tr>\n",
       "      <th>1498</th>\n",
       "      <td>44</td>\n",
       "    </tr>\n",
       "    <tr>\n",
       "      <th>1499</th>\n",
       "      <td>11</td>\n",
       "    </tr>\n",
       "  </tbody>\n",
       "</table>\n",
       "<p>2717 rows × 1 columns</p>\n",
       "</div>"
      ],
      "text/plain": [
       "                   id\n",
       "month     user_id    \n",
       "April     1005     41\n",
       "          1007     11\n",
       "          1009     14\n",
       "          1011      7\n",
       "          1012     21\n",
       "...                ..\n",
       "September 1492     10\n",
       "          1495     82\n",
       "          1496     29\n",
       "          1498     44\n",
       "          1499     11\n",
       "\n",
       "[2717 rows x 1 columns]"
      ]
     },
     "execution_count": 37,
     "metadata": {},
     "output_type": "execute_result"
    }
   ],
   "source": [
    "messages_pivot = messages.pivot_table(index=[ 'month', 'user_id'], values='id', aggfunc= 'count')\n",
    "messages_pivot"
   ]
  },
  {
   "cell_type": "markdown",
   "metadata": {},
   "source": [
    "Обновим индекс, чтобы не было мультииндекса "
   ]
  },
  {
   "cell_type": "code",
   "execution_count": 38,
   "metadata": {
    "pycharm": {
     "name": "#%%\n"
    }
   },
   "outputs": [
    {
     "name": "stdout",
     "output_type": "stream",
     "text": [
      "<class 'pandas.core.frame.DataFrame'>\n",
      "RangeIndex: 2717 entries, 0 to 2716\n",
      "Data columns (total 3 columns):\n",
      " #   Column          Non-Null Count  Dtype \n",
      "---  ------          --------------  ----- \n",
      " 0   month           2717 non-null   object\n",
      " 1   user_id         2717 non-null   int64 \n",
      " 2   messages_count  2717 non-null   int64 \n",
      "dtypes: int64(2), object(1)\n",
      "memory usage: 63.8+ KB\n"
     ]
    },
    {
     "data": {
      "text/html": [
       "<div>\n",
       "<style scoped>\n",
       "    .dataframe tbody tr th:only-of-type {\n",
       "        vertical-align: middle;\n",
       "    }\n",
       "\n",
       "    .dataframe tbody tr th {\n",
       "        vertical-align: top;\n",
       "    }\n",
       "\n",
       "    .dataframe thead th {\n",
       "        text-align: right;\n",
       "    }\n",
       "</style>\n",
       "<table border=\"1\" class=\"dataframe\">\n",
       "  <thead>\n",
       "    <tr style=\"text-align: right;\">\n",
       "      <th></th>\n",
       "      <th>month</th>\n",
       "      <th>user_id</th>\n",
       "      <th>messages_count</th>\n",
       "    </tr>\n",
       "  </thead>\n",
       "  <tbody>\n",
       "    <tr>\n",
       "      <th>0</th>\n",
       "      <td>April</td>\n",
       "      <td>1005</td>\n",
       "      <td>41</td>\n",
       "    </tr>\n",
       "    <tr>\n",
       "      <th>1</th>\n",
       "      <td>April</td>\n",
       "      <td>1007</td>\n",
       "      <td>11</td>\n",
       "    </tr>\n",
       "    <tr>\n",
       "      <th>2</th>\n",
       "      <td>April</td>\n",
       "      <td>1009</td>\n",
       "      <td>14</td>\n",
       "    </tr>\n",
       "    <tr>\n",
       "      <th>3</th>\n",
       "      <td>April</td>\n",
       "      <td>1011</td>\n",
       "      <td>7</td>\n",
       "    </tr>\n",
       "    <tr>\n",
       "      <th>4</th>\n",
       "      <td>April</td>\n",
       "      <td>1012</td>\n",
       "      <td>21</td>\n",
       "    </tr>\n",
       "    <tr>\n",
       "      <th>...</th>\n",
       "      <td>...</td>\n",
       "      <td>...</td>\n",
       "      <td>...</td>\n",
       "    </tr>\n",
       "    <tr>\n",
       "      <th>2712</th>\n",
       "      <td>September</td>\n",
       "      <td>1492</td>\n",
       "      <td>10</td>\n",
       "    </tr>\n",
       "    <tr>\n",
       "      <th>2713</th>\n",
       "      <td>September</td>\n",
       "      <td>1495</td>\n",
       "      <td>82</td>\n",
       "    </tr>\n",
       "    <tr>\n",
       "      <th>2714</th>\n",
       "      <td>September</td>\n",
       "      <td>1496</td>\n",
       "      <td>29</td>\n",
       "    </tr>\n",
       "    <tr>\n",
       "      <th>2715</th>\n",
       "      <td>September</td>\n",
       "      <td>1498</td>\n",
       "      <td>44</td>\n",
       "    </tr>\n",
       "    <tr>\n",
       "      <th>2716</th>\n",
       "      <td>September</td>\n",
       "      <td>1499</td>\n",
       "      <td>11</td>\n",
       "    </tr>\n",
       "  </tbody>\n",
       "</table>\n",
       "<p>2717 rows × 3 columns</p>\n",
       "</div>"
      ],
      "text/plain": [
       "          month  user_id  messages_count\n",
       "0         April     1005              41\n",
       "1         April     1007              11\n",
       "2         April     1009              14\n",
       "3         April     1011               7\n",
       "4         April     1012              21\n",
       "...         ...      ...             ...\n",
       "2712  September     1492              10\n",
       "2713  September     1495              82\n",
       "2714  September     1496              29\n",
       "2715  September     1498              44\n",
       "2716  September     1499              11\n",
       "\n",
       "[2717 rows x 3 columns]"
      ]
     },
     "execution_count": 38,
     "metadata": {},
     "output_type": "execute_result"
    }
   ],
   "source": [
    "messages_pivot.reset_index(inplace=True)\n",
    "messages_pivot.columns = ['month', 'user_id','messages_count']\n",
    "messages_pivot.info()\n",
    "messages_pivot"
   ]
  },
  {
   "cell_type": "code",
   "execution_count": 39,
   "metadata": {
    "pycharm": {
     "name": "#%%\n"
    }
   },
   "outputs": [],
   "source": [
    "pivot = pivot.merge(messages_pivot, on= ['month', 'user_id'], how='outer')"
   ]
  },
  {
   "cell_type": "markdown",
   "metadata": {},
   "source": [
    "#### Агрегация данных по трафику \n",
    "\n",
    "Добавим колонку месяц в данные по трафику "
   ]
  },
  {
   "cell_type": "code",
   "execution_count": 40,
   "metadata": {
    "pycharm": {
     "name": "#%%\n"
    }
   },
   "outputs": [],
   "source": [
    "internet.loc[:,'month'] = internet['session_date'].dt.month_name()"
   ]
  },
  {
   "cell_type": "markdown",
   "metadata": {},
   "source": [
    "Создадим сводную таблицу трафика пользователей по месяцам"
   ]
  },
  {
   "cell_type": "code",
   "execution_count": 41,
   "metadata": {
    "pycharm": {
     "name": "#%%\n"
    }
   },
   "outputs": [
    {
     "name": "stdout",
     "output_type": "stream",
     "text": [
      "<class 'pandas.core.frame.DataFrame'>\n",
      "Int64Index: 148849 entries, 0 to 149395\n",
      "Data columns (total 6 columns):\n",
      " #   Column        Non-Null Count   Dtype         \n",
      "---  ------        --------------   -----         \n",
      " 0   Unnamed: 0    148849 non-null  int64         \n",
      " 1   id            148849 non-null  object        \n",
      " 2   mb_used       148849 non-null  float64       \n",
      " 3   session_date  148849 non-null  datetime64[ns]\n",
      " 4   user_id       148849 non-null  int64         \n",
      " 5   month         148849 non-null  object        \n",
      "dtypes: datetime64[ns](1), float64(1), int64(2), object(2)\n",
      "memory usage: 7.9+ MB\n"
     ]
    },
    {
     "data": {
      "text/html": [
       "<div>\n",
       "<style scoped>\n",
       "    .dataframe tbody tr th:only-of-type {\n",
       "        vertical-align: middle;\n",
       "    }\n",
       "\n",
       "    .dataframe tbody tr th {\n",
       "        vertical-align: top;\n",
       "    }\n",
       "\n",
       "    .dataframe thead th {\n",
       "        text-align: right;\n",
       "    }\n",
       "</style>\n",
       "<table border=\"1\" class=\"dataframe\">\n",
       "  <thead>\n",
       "    <tr style=\"text-align: right;\">\n",
       "      <th></th>\n",
       "      <th></th>\n",
       "      <th>mb_used</th>\n",
       "    </tr>\n",
       "    <tr>\n",
       "      <th>month</th>\n",
       "      <th>user_id</th>\n",
       "      <th></th>\n",
       "    </tr>\n",
       "  </thead>\n",
       "  <tbody>\n",
       "    <tr>\n",
       "      <th rowspan=\"5\" valign=\"top\">April</th>\n",
       "      <th>1005</th>\n",
       "      <td>9365.0</td>\n",
       "    </tr>\n",
       "    <tr>\n",
       "      <th>1006</th>\n",
       "      <td>13954.0</td>\n",
       "    </tr>\n",
       "    <tr>\n",
       "      <th>1007</th>\n",
       "      <td>8031.0</td>\n",
       "    </tr>\n",
       "    <tr>\n",
       "      <th>1009</th>\n",
       "      <td>14730.0</td>\n",
       "    </tr>\n",
       "    <tr>\n",
       "      <th>1011</th>\n",
       "      <td>18099.0</td>\n",
       "    </tr>\n",
       "    <tr>\n",
       "      <th>...</th>\n",
       "      <th>...</th>\n",
       "      <td>...</td>\n",
       "    </tr>\n",
       "    <tr>\n",
       "      <th rowspan=\"5\" valign=\"top\">September</th>\n",
       "      <th>1494</th>\n",
       "      <td>16986.0</td>\n",
       "    </tr>\n",
       "    <tr>\n",
       "      <th>1495</th>\n",
       "      <td>33105.0</td>\n",
       "    </tr>\n",
       "    <tr>\n",
       "      <th>1496</th>\n",
       "      <td>26970.0</td>\n",
       "    </tr>\n",
       "    <tr>\n",
       "      <th>1498</th>\n",
       "      <td>22166.0</td>\n",
       "    </tr>\n",
       "    <tr>\n",
       "      <th>1499</th>\n",
       "      <td>1848.0</td>\n",
       "    </tr>\n",
       "  </tbody>\n",
       "</table>\n",
       "<p>3203 rows × 1 columns</p>\n",
       "</div>"
      ],
      "text/plain": [
       "                   mb_used\n",
       "month     user_id         \n",
       "April     1005      9365.0\n",
       "          1006     13954.0\n",
       "          1007      8031.0\n",
       "          1009     14730.0\n",
       "          1011     18099.0\n",
       "...                    ...\n",
       "September 1494     16986.0\n",
       "          1495     33105.0\n",
       "          1496     26970.0\n",
       "          1498     22166.0\n",
       "          1499      1848.0\n",
       "\n",
       "[3203 rows x 1 columns]"
      ]
     },
     "execution_count": 41,
     "metadata": {},
     "output_type": "execute_result"
    }
   ],
   "source": [
    "internet_pivot = internet.pivot_table(index=[ 'month', 'user_id'], values='mb_used', aggfunc= 'sum')\n",
    "internet.info()\n",
    "internet_pivot"
   ]
  },
  {
   "cell_type": "markdown",
   "metadata": {},
   "source": [
    "Обновим индекс, чтобы не было мультииндекса "
   ]
  },
  {
   "cell_type": "code",
   "execution_count": 42,
   "metadata": {
    "pycharm": {
     "name": "#%%\n"
    }
   },
   "outputs": [
    {
     "name": "stdout",
     "output_type": "stream",
     "text": [
      "<class 'pandas.core.frame.DataFrame'>\n",
      "RangeIndex: 3203 entries, 0 to 3202\n",
      "Data columns (total 3 columns):\n",
      " #   Column   Non-Null Count  Dtype  \n",
      "---  ------   --------------  -----  \n",
      " 0   month    3203 non-null   object \n",
      " 1   user_id  3203 non-null   int64  \n",
      " 2   mb_used  3203 non-null   float64\n",
      "dtypes: float64(1), int64(1), object(1)\n",
      "memory usage: 75.2+ KB\n"
     ]
    }
   ],
   "source": [
    "internet_pivot.reset_index(inplace=True)\n",
    "internet_pivot.columns = ['month', 'user_id','mb_used']\n",
    "internet_pivot.info()"
   ]
  },
  {
   "cell_type": "code",
   "execution_count": 43,
   "metadata": {
    "pycharm": {
     "name": "#%%\n"
    }
   },
   "outputs": [
    {
     "data": {
      "text/html": [
       "<div>\n",
       "<style scoped>\n",
       "    .dataframe tbody tr th:only-of-type {\n",
       "        vertical-align: middle;\n",
       "    }\n",
       "\n",
       "    .dataframe tbody tr th {\n",
       "        vertical-align: top;\n",
       "    }\n",
       "\n",
       "    .dataframe thead th {\n",
       "        text-align: right;\n",
       "    }\n",
       "</style>\n",
       "<table border=\"1\" class=\"dataframe\">\n",
       "  <thead>\n",
       "    <tr style=\"text-align: right;\">\n",
       "      <th></th>\n",
       "      <th>month</th>\n",
       "      <th>user_id</th>\n",
       "      <th>calls_count</th>\n",
       "      <th>calls_duration</th>\n",
       "      <th>messages_count</th>\n",
       "      <th>mb_used</th>\n",
       "    </tr>\n",
       "  </thead>\n",
       "  <tbody>\n",
       "    <tr>\n",
       "      <th>0</th>\n",
       "      <td>April</td>\n",
       "      <td>1005</td>\n",
       "      <td>101.0</td>\n",
       "      <td>670.20</td>\n",
       "      <td>41.0</td>\n",
       "      <td>9365.0</td>\n",
       "    </tr>\n",
       "    <tr>\n",
       "      <th>1</th>\n",
       "      <td>April</td>\n",
       "      <td>1006</td>\n",
       "      <td>47.0</td>\n",
       "      <td>332.32</td>\n",
       "      <td>NaN</td>\n",
       "      <td>13954.0</td>\n",
       "    </tr>\n",
       "    <tr>\n",
       "      <th>2</th>\n",
       "      <td>April</td>\n",
       "      <td>1007</td>\n",
       "      <td>25.0</td>\n",
       "      <td>187.06</td>\n",
       "      <td>11.0</td>\n",
       "      <td>8031.0</td>\n",
       "    </tr>\n",
       "    <tr>\n",
       "      <th>3</th>\n",
       "      <td>April</td>\n",
       "      <td>1009</td>\n",
       "      <td>39.0</td>\n",
       "      <td>306.55</td>\n",
       "      <td>14.0</td>\n",
       "      <td>14730.0</td>\n",
       "    </tr>\n",
       "    <tr>\n",
       "      <th>4</th>\n",
       "      <td>April</td>\n",
       "      <td>1011</td>\n",
       "      <td>62.0</td>\n",
       "      <td>351.18</td>\n",
       "      <td>7.0</td>\n",
       "      <td>18099.0</td>\n",
       "    </tr>\n",
       "    <tr>\n",
       "      <th>...</th>\n",
       "      <td>...</td>\n",
       "      <td>...</td>\n",
       "      <td>...</td>\n",
       "      <td>...</td>\n",
       "      <td>...</td>\n",
       "      <td>...</td>\n",
       "    </tr>\n",
       "    <tr>\n",
       "      <th>3210</th>\n",
       "      <td>September</td>\n",
       "      <td>1106</td>\n",
       "      <td>NaN</td>\n",
       "      <td>NaN</td>\n",
       "      <td>23.0</td>\n",
       "      <td>21953.0</td>\n",
       "    </tr>\n",
       "    <tr>\n",
       "      <th>3211</th>\n",
       "      <td>September</td>\n",
       "      <td>1231</td>\n",
       "      <td>NaN</td>\n",
       "      <td>NaN</td>\n",
       "      <td>188.0</td>\n",
       "      <td>32005.0</td>\n",
       "    </tr>\n",
       "    <tr>\n",
       "      <th>3212</th>\n",
       "      <td>September</td>\n",
       "      <td>1473</td>\n",
       "      <td>NaN</td>\n",
       "      <td>NaN</td>\n",
       "      <td>19.0</td>\n",
       "      <td>17307.0</td>\n",
       "    </tr>\n",
       "    <tr>\n",
       "      <th>3213</th>\n",
       "      <td>September</td>\n",
       "      <td>1489</td>\n",
       "      <td>NaN</td>\n",
       "      <td>NaN</td>\n",
       "      <td>32.0</td>\n",
       "      <td>17232.0</td>\n",
       "    </tr>\n",
       "    <tr>\n",
       "      <th>3214</th>\n",
       "      <td>April</td>\n",
       "      <td>1476</td>\n",
       "      <td>NaN</td>\n",
       "      <td>NaN</td>\n",
       "      <td>NaN</td>\n",
       "      <td>531.0</td>\n",
       "    </tr>\n",
       "  </tbody>\n",
       "</table>\n",
       "<p>3215 rows × 6 columns</p>\n",
       "</div>"
      ],
      "text/plain": [
       "          month user_id  calls_count  calls_duration  messages_count  mb_used\n",
       "0         April    1005        101.0          670.20            41.0   9365.0\n",
       "1         April    1006         47.0          332.32             NaN  13954.0\n",
       "2         April    1007         25.0          187.06            11.0   8031.0\n",
       "3         April    1009         39.0          306.55            14.0  14730.0\n",
       "4         April    1011         62.0          351.18             7.0  18099.0\n",
       "...         ...     ...          ...             ...             ...      ...\n",
       "3210  September    1106          NaN             NaN            23.0  21953.0\n",
       "3211  September    1231          NaN             NaN           188.0  32005.0\n",
       "3212  September    1473          NaN             NaN            19.0  17307.0\n",
       "3213  September    1489          NaN             NaN            32.0  17232.0\n",
       "3214      April    1476          NaN             NaN             NaN    531.0\n",
       "\n",
       "[3215 rows x 6 columns]"
      ]
     },
     "execution_count": 43,
     "metadata": {},
     "output_type": "execute_result"
    }
   ],
   "source": [
    "pivot = pivot.merge(internet_pivot, on= ['month', 'user_id'], how='outer')\n",
    "pivot"
   ]
  },
  {
   "cell_type": "markdown",
   "metadata": {},
   "source": [
    "#### Агрегация данных по тарифам \n",
    "\n",
    "Добавим в сводную таблицу информацию о пользователях, чтобы получить данные о тарифах"
   ]
  },
  {
   "cell_type": "code",
   "execution_count": 44,
   "metadata": {
    "pycharm": {
     "name": "#%%\n"
    }
   },
   "outputs": [
    {
     "name": "stdout",
     "output_type": "stream",
     "text": [
      "<class 'pandas.core.frame.DataFrame'>\n",
      "Int64Index: 3217 entries, 0 to 3216\n",
      "Data columns (total 13 columns):\n",
      " #   Column          Non-Null Count  Dtype         \n",
      "---  ------          --------------  -----         \n",
      " 0   month           3215 non-null   object        \n",
      " 1   user_id         3217 non-null   object        \n",
      " 2   calls_count     3175 non-null   float64       \n",
      " 3   calls_duration  3175 non-null   float64       \n",
      " 4   messages_count  2717 non-null   float64       \n",
      " 5   mb_used         3203 non-null   float64       \n",
      " 6   age             3216 non-null   float64       \n",
      " 7   churn_date      189 non-null    datetime64[ns]\n",
      " 8   city            3216 non-null   object        \n",
      " 9   first_name      3216 non-null   object        \n",
      " 10  last_name       3216 non-null   object        \n",
      " 11  reg_date        3216 non-null   datetime64[ns]\n",
      " 12  tariff          3216 non-null   object        \n",
      "dtypes: datetime64[ns](2), float64(5), object(6)\n",
      "memory usage: 351.9+ KB\n"
     ]
    },
    {
     "data": {
      "text/html": [
       "<div>\n",
       "<style scoped>\n",
       "    .dataframe tbody tr th:only-of-type {\n",
       "        vertical-align: middle;\n",
       "    }\n",
       "\n",
       "    .dataframe tbody tr th {\n",
       "        vertical-align: top;\n",
       "    }\n",
       "\n",
       "    .dataframe thead th {\n",
       "        text-align: right;\n",
       "    }\n",
       "</style>\n",
       "<table border=\"1\" class=\"dataframe\">\n",
       "  <thead>\n",
       "    <tr style=\"text-align: right;\">\n",
       "      <th></th>\n",
       "      <th>month</th>\n",
       "      <th>user_id</th>\n",
       "      <th>calls_count</th>\n",
       "      <th>calls_duration</th>\n",
       "      <th>messages_count</th>\n",
       "      <th>mb_used</th>\n",
       "      <th>age</th>\n",
       "      <th>churn_date</th>\n",
       "      <th>city</th>\n",
       "      <th>first_name</th>\n",
       "      <th>last_name</th>\n",
       "      <th>reg_date</th>\n",
       "      <th>tariff</th>\n",
       "    </tr>\n",
       "  </thead>\n",
       "  <tbody>\n",
       "    <tr>\n",
       "      <th>3212</th>\n",
       "      <td>December</td>\n",
       "      <td>1328</td>\n",
       "      <td>NaN</td>\n",
       "      <td>NaN</td>\n",
       "      <td>7.0</td>\n",
       "      <td>39461.0</td>\n",
       "      <td>44.0</td>\n",
       "      <td>NaT</td>\n",
       "      <td>Мурманск</td>\n",
       "      <td>Рауль</td>\n",
       "      <td>Аркадьев</td>\n",
       "      <td>2018-10-16</td>\n",
       "      <td>ultra</td>\n",
       "    </tr>\n",
       "    <tr>\n",
       "      <th>3213</th>\n",
       "      <td>November</td>\n",
       "      <td>1328</td>\n",
       "      <td>NaN</td>\n",
       "      <td>NaN</td>\n",
       "      <td>8.0</td>\n",
       "      <td>35567.0</td>\n",
       "      <td>44.0</td>\n",
       "      <td>NaT</td>\n",
       "      <td>Мурманск</td>\n",
       "      <td>Рауль</td>\n",
       "      <td>Аркадьев</td>\n",
       "      <td>2018-10-16</td>\n",
       "      <td>ultra</td>\n",
       "    </tr>\n",
       "    <tr>\n",
       "      <th>3214</th>\n",
       "      <td>October</td>\n",
       "      <td>1328</td>\n",
       "      <td>NaN</td>\n",
       "      <td>NaN</td>\n",
       "      <td>6.0</td>\n",
       "      <td>21094.0</td>\n",
       "      <td>44.0</td>\n",
       "      <td>NaT</td>\n",
       "      <td>Мурманск</td>\n",
       "      <td>Рауль</td>\n",
       "      <td>Аркадьев</td>\n",
       "      <td>2018-10-16</td>\n",
       "      <td>ultra</td>\n",
       "    </tr>\n",
       "    <tr>\n",
       "      <th>3215</th>\n",
       "      <td>NaN</td>\n",
       "      <td>1128</td>\n",
       "      <td>NaN</td>\n",
       "      <td>NaN</td>\n",
       "      <td>NaN</td>\n",
       "      <td>NaN</td>\n",
       "      <td>51.0</td>\n",
       "      <td>2018-12-23</td>\n",
       "      <td>Волжский</td>\n",
       "      <td>Ксения</td>\n",
       "      <td>Агаева</td>\n",
       "      <td>2018-12-15</td>\n",
       "      <td>ultra</td>\n",
       "    </tr>\n",
       "    <tr>\n",
       "      <th>3216</th>\n",
       "      <td>NaN</td>\n",
       "      <td>1371</td>\n",
       "      <td>NaN</td>\n",
       "      <td>NaN</td>\n",
       "      <td>NaN</td>\n",
       "      <td>NaN</td>\n",
       "      <td>50.0</td>\n",
       "      <td>2018-12-30</td>\n",
       "      <td>Омск</td>\n",
       "      <td>Ириней</td>\n",
       "      <td>Трофимов</td>\n",
       "      <td>2018-12-25</td>\n",
       "      <td>smart</td>\n",
       "    </tr>\n",
       "  </tbody>\n",
       "</table>\n",
       "</div>"
      ],
      "text/plain": [
       "         month user_id  calls_count  calls_duration  messages_count  mb_used  \\\n",
       "3212  December    1328          NaN             NaN             7.0  39461.0   \n",
       "3213  November    1328          NaN             NaN             8.0  35567.0   \n",
       "3214   October    1328          NaN             NaN             6.0  21094.0   \n",
       "3215       NaN    1128          NaN             NaN             NaN      NaN   \n",
       "3216       NaN    1371          NaN             NaN             NaN      NaN   \n",
       "\n",
       "       age churn_date      city first_name last_name   reg_date tariff  \n",
       "3212  44.0        NaT  Мурманск      Рауль  Аркадьев 2018-10-16  ultra  \n",
       "3213  44.0        NaT  Мурманск      Рауль  Аркадьев 2018-10-16  ultra  \n",
       "3214  44.0        NaT  Мурманск      Рауль  Аркадьев 2018-10-16  ultra  \n",
       "3215  51.0 2018-12-23  Волжский     Ксения    Агаева 2018-12-15  ultra  \n",
       "3216  50.0 2018-12-30      Омск     Ириней  Трофимов 2018-12-25  smart  "
      ]
     },
     "execution_count": 44,
     "metadata": {},
     "output_type": "execute_result"
    }
   ],
   "source": [
    "pivot = pivot.merge(users, on= 'user_id', how='outer')\n",
    "pivot.info()\n",
    "pivot.tail()"
   ]
  },
  {
   "cell_type": "markdown",
   "metadata": {},
   "source": [
    "Посмотрим какие месяцы попали в сводную таблицу"
   ]
  },
  {
   "cell_type": "code",
   "execution_count": 45,
   "metadata": {
    "pycharm": {
     "name": "#%%\n"
    }
   },
   "outputs": [
    {
     "data": {
      "text/plain": [
       "array(['April', 'August', 'December', 'February', 'January', 'July',\n",
       "       'June', 'March', 'May', 'November', 'October', 'September', 'All',\n",
       "       nan], dtype=object)"
      ]
     },
     "execution_count": 45,
     "metadata": {},
     "output_type": "execute_result"
    }
   ],
   "source": [
    "pivot['month'].unique()"
   ]
  },
  {
   "cell_type": "markdown",
   "metadata": {},
   "source": [
    "Значения All и nan нужно исправить. Проверим строки с незаполнненым значением month"
   ]
  },
  {
   "cell_type": "code",
   "execution_count": 46,
   "metadata": {
    "pycharm": {
     "name": "#%%\n"
    }
   },
   "outputs": [
    {
     "data": {
      "text/html": [
       "<div>\n",
       "<style scoped>\n",
       "    .dataframe tbody tr th:only-of-type {\n",
       "        vertical-align: middle;\n",
       "    }\n",
       "\n",
       "    .dataframe tbody tr th {\n",
       "        vertical-align: top;\n",
       "    }\n",
       "\n",
       "    .dataframe thead th {\n",
       "        text-align: right;\n",
       "    }\n",
       "</style>\n",
       "<table border=\"1\" class=\"dataframe\">\n",
       "  <thead>\n",
       "    <tr style=\"text-align: right;\">\n",
       "      <th></th>\n",
       "      <th>month</th>\n",
       "      <th>user_id</th>\n",
       "      <th>calls_count</th>\n",
       "      <th>calls_duration</th>\n",
       "      <th>messages_count</th>\n",
       "      <th>mb_used</th>\n",
       "      <th>age</th>\n",
       "      <th>churn_date</th>\n",
       "      <th>city</th>\n",
       "      <th>first_name</th>\n",
       "      <th>last_name</th>\n",
       "      <th>reg_date</th>\n",
       "      <th>tariff</th>\n",
       "    </tr>\n",
       "  </thead>\n",
       "  <tbody>\n",
       "    <tr>\n",
       "      <th>3215</th>\n",
       "      <td>NaN</td>\n",
       "      <td>1128</td>\n",
       "      <td>NaN</td>\n",
       "      <td>NaN</td>\n",
       "      <td>NaN</td>\n",
       "      <td>NaN</td>\n",
       "      <td>51.0</td>\n",
       "      <td>2018-12-23</td>\n",
       "      <td>Волжский</td>\n",
       "      <td>Ксения</td>\n",
       "      <td>Агаева</td>\n",
       "      <td>2018-12-15</td>\n",
       "      <td>ultra</td>\n",
       "    </tr>\n",
       "    <tr>\n",
       "      <th>3216</th>\n",
       "      <td>NaN</td>\n",
       "      <td>1371</td>\n",
       "      <td>NaN</td>\n",
       "      <td>NaN</td>\n",
       "      <td>NaN</td>\n",
       "      <td>NaN</td>\n",
       "      <td>50.0</td>\n",
       "      <td>2018-12-30</td>\n",
       "      <td>Омск</td>\n",
       "      <td>Ириней</td>\n",
       "      <td>Трофимов</td>\n",
       "      <td>2018-12-25</td>\n",
       "      <td>smart</td>\n",
       "    </tr>\n",
       "  </tbody>\n",
       "</table>\n",
       "</div>"
      ],
      "text/plain": [
       "     month user_id  calls_count  calls_duration  messages_count  mb_used  \\\n",
       "3215   NaN    1128          NaN             NaN             NaN      NaN   \n",
       "3216   NaN    1371          NaN             NaN             NaN      NaN   \n",
       "\n",
       "       age churn_date      city first_name last_name   reg_date tariff  \n",
       "3215  51.0 2018-12-23  Волжский     Ксения    Агаева 2018-12-15  ultra  \n",
       "3216  50.0 2018-12-30      Омск     Ириней  Трофимов 2018-12-25  smart  "
      ]
     },
     "execution_count": 46,
     "metadata": {},
     "output_type": "execute_result"
    }
   ],
   "source": [
    "pivot.query('month.isna()')"
   ]
  },
  {
   "cell_type": "markdown",
   "metadata": {},
   "source": [
    "Два пользователя подключились в декабре, не ползьзовались мобильной связью, поэтому месяц не попал из данных по звонкам, сообщениям, трафику.\n",
    "\n",
    "Проставим месяц в сводную таблицу вручную для этих пользователей."
   ]
  },
  {
   "cell_type": "code",
   "execution_count": 47,
   "metadata": {
    "pycharm": {
     "name": "#%%\n"
    }
   },
   "outputs": [],
   "source": [
    "pivot['month'].fillna('December',  inplace= True)"
   ]
  },
  {
   "cell_type": "markdown",
   "metadata": {},
   "source": [
    "В сводную таблицу попали суммарные данные из предыдущих таблиц с месяцем All:"
   ]
  },
  {
   "cell_type": "code",
   "execution_count": 48,
   "metadata": {
    "pycharm": {
     "name": "#%%\n"
    }
   },
   "outputs": [
    {
     "data": {
      "text/html": [
       "<div>\n",
       "<style scoped>\n",
       "    .dataframe tbody tr th:only-of-type {\n",
       "        vertical-align: middle;\n",
       "    }\n",
       "\n",
       "    .dataframe tbody tr th {\n",
       "        vertical-align: top;\n",
       "    }\n",
       "\n",
       "    .dataframe thead th {\n",
       "        text-align: right;\n",
       "    }\n",
       "</style>\n",
       "<table border=\"1\" class=\"dataframe\">\n",
       "  <thead>\n",
       "    <tr style=\"text-align: right;\">\n",
       "      <th></th>\n",
       "      <th>month</th>\n",
       "      <th>user_id</th>\n",
       "      <th>calls_count</th>\n",
       "      <th>calls_duration</th>\n",
       "      <th>messages_count</th>\n",
       "      <th>mb_used</th>\n",
       "      <th>age</th>\n",
       "      <th>churn_date</th>\n",
       "      <th>city</th>\n",
       "      <th>first_name</th>\n",
       "      <th>last_name</th>\n",
       "      <th>reg_date</th>\n",
       "      <th>tariff</th>\n",
       "    </tr>\n",
       "  </thead>\n",
       "  <tbody>\n",
       "    <tr>\n",
       "      <th>3176</th>\n",
       "      <td>All</td>\n",
       "      <td></td>\n",
       "      <td>202607.0</td>\n",
       "      <td>1368790.04</td>\n",
       "      <td>NaN</td>\n",
       "      <td>NaN</td>\n",
       "      <td>NaN</td>\n",
       "      <td>NaT</td>\n",
       "      <td>NaN</td>\n",
       "      <td>NaN</td>\n",
       "      <td>NaN</td>\n",
       "      <td>NaT</td>\n",
       "      <td>NaN</td>\n",
       "    </tr>\n",
       "  </tbody>\n",
       "</table>\n",
       "</div>"
      ],
      "text/plain": [
       "     month user_id  calls_count  calls_duration  messages_count  mb_used  age  \\\n",
       "3176   All             202607.0      1368790.04             NaN      NaN  NaN   \n",
       "\n",
       "     churn_date city first_name last_name reg_date tariff  \n",
       "3176        NaT  NaN        NaN       NaN      NaT    NaN  "
      ]
     },
     "execution_count": 48,
     "metadata": {},
     "output_type": "execute_result"
    }
   ],
   "source": [
    "pivot.query('month == \"All\"')"
   ]
  },
  {
   "cell_type": "markdown",
   "metadata": {},
   "source": [
    "удалим эту строку"
   ]
  },
  {
   "cell_type": "code",
   "execution_count": 49,
   "metadata": {
    "pycharm": {
     "name": "#%%\n"
    }
   },
   "outputs": [],
   "source": [
    "pivot.drop(3176, inplace = True)"
   ]
  },
  {
   "cell_type": "markdown",
   "metadata": {},
   "source": [
    "#### Подсчет выручки пользователей по месяцам\n",
    "\n",
    "В сводной таблице есть пропуски у ключевых полей\n",
    "- длительность звонков\n",
    "- количество сообщений\n",
    "- количество мегабайт\n",
    "\n",
    "Заполним пропуски нулями, так как это не исказит ситуацию по затратам."
   ]
  },
  {
   "cell_type": "code",
   "execution_count": 50,
   "metadata": {
    "pycharm": {
     "name": "#%%\n"
    }
   },
   "outputs": [],
   "source": [
    "pivot['calls_duration'].fillna(0,  inplace= True)\n",
    "pivot['messages_count'].fillna(0,  inplace= True)\n",
    "pivot['mb_used'].fillna(0,  inplace= True)"
   ]
  },
  {
   "cell_type": "markdown",
   "metadata": {},
   "source": [
    "Посчитаем выручку по каждому пользователю за месяц"
   ]
  },
  {
   "cell_type": "code",
   "execution_count": 51,
   "metadata": {
    "pycharm": {
     "name": "#%%\n"
    }
   },
   "outputs": [],
   "source": [
    "# функция подсчета выручки исходя из тарифа\n",
    "def calc_revenue(row):    \n",
    "    tariff_data = tariffs_data[row['tariff']]\n",
    "    \n",
    "    # превышение по звонкам\n",
    "    calls_above     =  row['calls_duration'] - tariff_data['minutes_included']\n",
    "    calls_above     = max(calls_above, 0)\n",
    "    calls_above_fee = calls_above * tariff_data['rub_per_minute']\n",
    "\n",
    "    # превышение по сообщениям\n",
    "    messages_above     = row['messages_count'] - tariff_data['messages_included']\n",
    "    messages_above     = max(messages_above, 0)\n",
    "    messages_above_fee = messages_above * tariff_data['rub_per_message']\n",
    "    \n",
    "    \n",
    "    # превышение по трафику\n",
    "    mb_per_month_included = tariff_data['mb_per_month_included']    \n",
    "    internet_gb_above     = (row['mb_used'] - mb_per_month_included) / 1024  # перерасход в гигабайтах\n",
    "    internet_gb_above     = max(internet_gb_above, 0)\n",
    "    internet_above_fee    = math.ceil(internet_gb_above) * tariff_data['rub_per_gb']\n",
    "\n",
    "       \n",
    "    return tariff_data['rub_monthly_fee'] + calls_above_fee + messages_above_fee + internet_above_fee\n",
    "     \n",
    "\n",
    "pivot['revenue']  = pivot.apply(calc_revenue, axis=1) # добавим колонку с выручкой"
   ]
  },
  {
   "cell_type": "code",
   "execution_count": 52,
   "metadata": {
    "pycharm": {
     "name": "#%%\n"
    }
   },
   "outputs": [
    {
     "data": {
      "text/html": [
       "<div>\n",
       "<style scoped>\n",
       "    .dataframe tbody tr th:only-of-type {\n",
       "        vertical-align: middle;\n",
       "    }\n",
       "\n",
       "    .dataframe tbody tr th {\n",
       "        vertical-align: top;\n",
       "    }\n",
       "\n",
       "    .dataframe thead th {\n",
       "        text-align: right;\n",
       "    }\n",
       "</style>\n",
       "<table border=\"1\" class=\"dataframe\">\n",
       "  <thead>\n",
       "    <tr style=\"text-align: right;\">\n",
       "      <th></th>\n",
       "      <th>month</th>\n",
       "      <th>user_id</th>\n",
       "      <th>calls_count</th>\n",
       "      <th>calls_duration</th>\n",
       "      <th>messages_count</th>\n",
       "      <th>mb_used</th>\n",
       "      <th>age</th>\n",
       "      <th>churn_date</th>\n",
       "      <th>city</th>\n",
       "      <th>first_name</th>\n",
       "      <th>last_name</th>\n",
       "      <th>reg_date</th>\n",
       "      <th>tariff</th>\n",
       "      <th>revenue</th>\n",
       "    </tr>\n",
       "  </thead>\n",
       "  <tbody>\n",
       "    <tr>\n",
       "      <th>0</th>\n",
       "      <td>April</td>\n",
       "      <td>1005</td>\n",
       "      <td>101.0</td>\n",
       "      <td>670.20</td>\n",
       "      <td>41.0</td>\n",
       "      <td>9365.0</td>\n",
       "      <td>67.0</td>\n",
       "      <td>NaT</td>\n",
       "      <td>Набережные Челны</td>\n",
       "      <td>Афанасий</td>\n",
       "      <td>Горлов</td>\n",
       "      <td>2018-01-25</td>\n",
       "      <td>smart</td>\n",
       "      <td>1060.60</td>\n",
       "    </tr>\n",
       "    <tr>\n",
       "      <th>1</th>\n",
       "      <td>August</td>\n",
       "      <td>1005</td>\n",
       "      <td>71.0</td>\n",
       "      <td>586.79</td>\n",
       "      <td>64.0</td>\n",
       "      <td>7554.0</td>\n",
       "      <td>67.0</td>\n",
       "      <td>NaT</td>\n",
       "      <td>Набережные Челны</td>\n",
       "      <td>Афанасий</td>\n",
       "      <td>Горлов</td>\n",
       "      <td>2018-01-25</td>\n",
       "      <td>smart</td>\n",
       "      <td>852.37</td>\n",
       "    </tr>\n",
       "    <tr>\n",
       "      <th>2</th>\n",
       "      <td>December</td>\n",
       "      <td>1005</td>\n",
       "      <td>84.0</td>\n",
       "      <td>559.43</td>\n",
       "      <td>54.0</td>\n",
       "      <td>8680.0</td>\n",
       "      <td>67.0</td>\n",
       "      <td>NaT</td>\n",
       "      <td>Набережные Челны</td>\n",
       "      <td>Афанасий</td>\n",
       "      <td>Горлов</td>\n",
       "      <td>2018-01-25</td>\n",
       "      <td>smart</td>\n",
       "      <td>740.29</td>\n",
       "    </tr>\n",
       "    <tr>\n",
       "      <th>3</th>\n",
       "      <td>February</td>\n",
       "      <td>1005</td>\n",
       "      <td>69.0</td>\n",
       "      <td>426.74</td>\n",
       "      <td>38.0</td>\n",
       "      <td>7394.0</td>\n",
       "      <td>67.0</td>\n",
       "      <td>NaT</td>\n",
       "      <td>Набережные Челны</td>\n",
       "      <td>Афанасий</td>\n",
       "      <td>Горлов</td>\n",
       "      <td>2018-01-25</td>\n",
       "      <td>smart</td>\n",
       "      <td>550.00</td>\n",
       "    </tr>\n",
       "    <tr>\n",
       "      <th>4</th>\n",
       "      <td>January</td>\n",
       "      <td>1005</td>\n",
       "      <td>15.0</td>\n",
       "      <td>90.93</td>\n",
       "      <td>7.0</td>\n",
       "      <td>2730.0</td>\n",
       "      <td>67.0</td>\n",
       "      <td>NaT</td>\n",
       "      <td>Набережные Челны</td>\n",
       "      <td>Афанасий</td>\n",
       "      <td>Горлов</td>\n",
       "      <td>2018-01-25</td>\n",
       "      <td>smart</td>\n",
       "      <td>550.00</td>\n",
       "    </tr>\n",
       "    <tr>\n",
       "      <th>...</th>\n",
       "      <td>...</td>\n",
       "      <td>...</td>\n",
       "      <td>...</td>\n",
       "      <td>...</td>\n",
       "      <td>...</td>\n",
       "      <td>...</td>\n",
       "      <td>...</td>\n",
       "      <td>...</td>\n",
       "      <td>...</td>\n",
       "      <td>...</td>\n",
       "      <td>...</td>\n",
       "      <td>...</td>\n",
       "      <td>...</td>\n",
       "      <td>...</td>\n",
       "    </tr>\n",
       "    <tr>\n",
       "      <th>3212</th>\n",
       "      <td>December</td>\n",
       "      <td>1328</td>\n",
       "      <td>NaN</td>\n",
       "      <td>0.00</td>\n",
       "      <td>7.0</td>\n",
       "      <td>39461.0</td>\n",
       "      <td>44.0</td>\n",
       "      <td>NaT</td>\n",
       "      <td>Мурманск</td>\n",
       "      <td>Рауль</td>\n",
       "      <td>Аркадьев</td>\n",
       "      <td>2018-10-16</td>\n",
       "      <td>ultra</td>\n",
       "      <td>3300.00</td>\n",
       "    </tr>\n",
       "    <tr>\n",
       "      <th>3213</th>\n",
       "      <td>November</td>\n",
       "      <td>1328</td>\n",
       "      <td>NaN</td>\n",
       "      <td>0.00</td>\n",
       "      <td>8.0</td>\n",
       "      <td>35567.0</td>\n",
       "      <td>44.0</td>\n",
       "      <td>NaT</td>\n",
       "      <td>Мурманск</td>\n",
       "      <td>Рауль</td>\n",
       "      <td>Аркадьев</td>\n",
       "      <td>2018-10-16</td>\n",
       "      <td>ultra</td>\n",
       "      <td>2700.00</td>\n",
       "    </tr>\n",
       "    <tr>\n",
       "      <th>3214</th>\n",
       "      <td>October</td>\n",
       "      <td>1328</td>\n",
       "      <td>NaN</td>\n",
       "      <td>0.00</td>\n",
       "      <td>6.0</td>\n",
       "      <td>21094.0</td>\n",
       "      <td>44.0</td>\n",
       "      <td>NaT</td>\n",
       "      <td>Мурманск</td>\n",
       "      <td>Рауль</td>\n",
       "      <td>Аркадьев</td>\n",
       "      <td>2018-10-16</td>\n",
       "      <td>ultra</td>\n",
       "      <td>1950.00</td>\n",
       "    </tr>\n",
       "    <tr>\n",
       "      <th>3215</th>\n",
       "      <td>December</td>\n",
       "      <td>1128</td>\n",
       "      <td>NaN</td>\n",
       "      <td>0.00</td>\n",
       "      <td>0.0</td>\n",
       "      <td>0.0</td>\n",
       "      <td>51.0</td>\n",
       "      <td>2018-12-23</td>\n",
       "      <td>Волжский</td>\n",
       "      <td>Ксения</td>\n",
       "      <td>Агаева</td>\n",
       "      <td>2018-12-15</td>\n",
       "      <td>ultra</td>\n",
       "      <td>1950.00</td>\n",
       "    </tr>\n",
       "    <tr>\n",
       "      <th>3216</th>\n",
       "      <td>December</td>\n",
       "      <td>1371</td>\n",
       "      <td>NaN</td>\n",
       "      <td>0.00</td>\n",
       "      <td>0.0</td>\n",
       "      <td>0.0</td>\n",
       "      <td>50.0</td>\n",
       "      <td>2018-12-30</td>\n",
       "      <td>Омск</td>\n",
       "      <td>Ириней</td>\n",
       "      <td>Трофимов</td>\n",
       "      <td>2018-12-25</td>\n",
       "      <td>smart</td>\n",
       "      <td>550.00</td>\n",
       "    </tr>\n",
       "  </tbody>\n",
       "</table>\n",
       "<p>3216 rows × 14 columns</p>\n",
       "</div>"
      ],
      "text/plain": [
       "         month user_id  calls_count  calls_duration  messages_count  mb_used  \\\n",
       "0        April    1005        101.0          670.20            41.0   9365.0   \n",
       "1       August    1005         71.0          586.79            64.0   7554.0   \n",
       "2     December    1005         84.0          559.43            54.0   8680.0   \n",
       "3     February    1005         69.0          426.74            38.0   7394.0   \n",
       "4      January    1005         15.0           90.93             7.0   2730.0   \n",
       "...        ...     ...          ...             ...             ...      ...   \n",
       "3212  December    1328          NaN            0.00             7.0  39461.0   \n",
       "3213  November    1328          NaN            0.00             8.0  35567.0   \n",
       "3214   October    1328          NaN            0.00             6.0  21094.0   \n",
       "3215  December    1128          NaN            0.00             0.0      0.0   \n",
       "3216  December    1371          NaN            0.00             0.0      0.0   \n",
       "\n",
       "       age churn_date              city first_name last_name   reg_date  \\\n",
       "0     67.0        NaT  Набережные Челны   Афанасий    Горлов 2018-01-25   \n",
       "1     67.0        NaT  Набережные Челны   Афанасий    Горлов 2018-01-25   \n",
       "2     67.0        NaT  Набережные Челны   Афанасий    Горлов 2018-01-25   \n",
       "3     67.0        NaT  Набережные Челны   Афанасий    Горлов 2018-01-25   \n",
       "4     67.0        NaT  Набережные Челны   Афанасий    Горлов 2018-01-25   \n",
       "...    ...        ...               ...        ...       ...        ...   \n",
       "3212  44.0        NaT          Мурманск      Рауль  Аркадьев 2018-10-16   \n",
       "3213  44.0        NaT          Мурманск      Рауль  Аркадьев 2018-10-16   \n",
       "3214  44.0        NaT          Мурманск      Рауль  Аркадьев 2018-10-16   \n",
       "3215  51.0 2018-12-23          Волжский     Ксения    Агаева 2018-12-15   \n",
       "3216  50.0 2018-12-30              Омск     Ириней  Трофимов 2018-12-25   \n",
       "\n",
       "     tariff  revenue  \n",
       "0     smart  1060.60  \n",
       "1     smart   852.37  \n",
       "2     smart   740.29  \n",
       "3     smart   550.00  \n",
       "4     smart   550.00  \n",
       "...     ...      ...  \n",
       "3212  ultra  3300.00  \n",
       "3213  ultra  2700.00  \n",
       "3214  ultra  1950.00  \n",
       "3215  ultra  1950.00  \n",
       "3216  smart   550.00  \n",
       "\n",
       "[3216 rows x 14 columns]"
      ]
     },
     "execution_count": 52,
     "metadata": {},
     "output_type": "execute_result"
    }
   ],
   "source": [
    "pivot"
   ]
  },
  {
   "cell_type": "markdown",
   "metadata": {},
   "source": [
    "### Вывод \n",
    "\n",
    "Заменили типы в датафреймах на более корректные. Избавились от выбросов. Собрали данные по разным таблицам для подсчета итоговой выручки. Посчитана помесячная выручка на каждого пользователя."
   ]
  },
  {
   "cell_type": "markdown",
   "metadata": {},
   "source": [
    "## Анализ данных\n",
    "\n",
    "Разобъем данные по обоим тарифам на 2 части:"
   ]
  },
  {
   "cell_type": "code",
   "execution_count": 53,
   "metadata": {
    "pycharm": {
     "name": "#%%\n"
    }
   },
   "outputs": [],
   "source": [
    "smart = pivot.query('tariff == \"smart\"')\n",
    "ultra = pivot.query('tariff == \"ultra\"')"
   ]
  },
  {
   "cell_type": "markdown",
   "metadata": {},
   "source": [
    "Создадим функцию для подсчета средних значений и стандартного отклонения"
   ]
  },
  {
   "cell_type": "code",
   "execution_count": 54,
   "metadata": {
    "pycharm": {
     "name": "#%%\n"
    }
   },
   "outputs": [],
   "source": [
    "def calc_mean_sigma(df, column_name):\n",
    "    \n",
    "    # рассчитаем дисперсию и средние значения по месяцам\n",
    "    df = df.pivot_table(index='month', values=column_name, aggfunc=['var', 'mean'])\n",
    "\n",
    "    # название столбца с дисперсией\n",
    "    variation_name = 'var_'+ column_name;\n",
    "    \n",
    "    # название столбца со средними значениями\n",
    "    mean_name = 'mean_' + column_name\n",
    "    \n",
    "    df.columns = [variation_name, mean_name ]\n",
    "    \n",
    "    # посчитаем стандартное отклонение\n",
    "    df['sigma'] = df[variation_name].apply(math.sqrt)\n",
    "    \n",
    "    df.reset_index(inplace = True)    \n",
    "    # добавим колонку с номером месяца\n",
    "    df['month_num'] = df['month'].apply(lambda x:  month_names_nums[x] )\n",
    "    \n",
    "    # отсортируем по номеру месяца\n",
    "    return df.sort_values(by='month_num')"
   ]
  },
  {
   "cell_type": "markdown",
   "metadata": {},
   "source": [
    "### Анализ длительности звонков по месяцам\n",
    "\n",
    "Рассчитаем дисперсию и средние значения по месяцам"
   ]
  },
  {
   "cell_type": "code",
   "execution_count": 55,
   "metadata": {
    "pycharm": {
     "name": "#%%\n"
    }
   },
   "outputs": [],
   "source": [
    "smart_pivot = calc_mean_sigma(smart, 'calls_duration')\n",
    "ultra_pivot = calc_mean_sigma(ultra, 'calls_duration')"
   ]
  },
  {
   "cell_type": "markdown",
   "metadata": {},
   "source": [
    "Построим графики среднего количества минут, которые проговаривают пользователи обоих тарифов по месяцам"
   ]
  },
  {
   "cell_type": "code",
   "execution_count": 56,
   "metadata": {
    "pycharm": {
     "name": "#%%\n"
    }
   },
   "outputs": [
    {
     "data": {
      "image/png": "[encoded data removed]",
      "text/plain": [
       "<Figure size 1080x360 with 1 Axes>"
      ]
     },
     "metadata": {
      "needs_background": "light"
     },
     "output_type": "display_data"
    }
   ],
   "source": [
    "months = smart_pivot['month']\n",
    "\n",
    "x = np.arange(len(months))\n",
    "n = 2 # число тарифов для сравнения\n",
    "\n",
    "width = 1 / (n+1)\n",
    "f, ax = plt.subplots(figsize=(15,5))\n",
    "ax.grid(zorder=0)\n",
    "\n",
    "plt.bar(x,         ultra_pivot['mean_calls_duration'], width = width, label = 'ultra', color='red', alpha=0.5)\n",
    "plt.bar(x + width, smart_pivot['mean_calls_duration'], width = width, label = 'smart' )    \n",
    "\n",
    "ax.set_title('Среднее количество минут в месяц')\n",
    "ax.set_ylabel('Количество минут')\n",
    "plt.legend()  \n",
    "\n",
    "plt.xticks( x+n/2. * width, months)\n",
    "plt.show()"
   ]
  },
  {
   "cell_type": "markdown",
   "metadata": {},
   "source": [
    "В среднем на тарифе Ультра ожидаемо говорят больше. Особенно разрыв заметен в январе. Но в феврале средняя продолжительность звонков примерно одинаковая. \n",
    "________\n",
    "Посчитаем усредненное число минут по пользователям обоих тарифов, которе требуется в месяц"
   ]
  },
  {
   "cell_type": "code",
   "execution_count": 57,
   "metadata": {
    "pycharm": {
     "name": "#%%\n"
    }
   },
   "outputs": [
    {
     "name": "stdout",
     "output_type": "stream",
     "text": [
      "На тарифе Ультра пользователю требуется в среднем 468 минут в месяц\n",
      "На тарифе Смарт  пользователю требуется в среднем 365 минут в месяц\n"
     ]
    }
   ],
   "source": [
    "print('На тарифе Ультра пользователю требуется в среднем {:.0f} минут в месяц'.format( ultra_pivot['mean_calls_duration'].mean()))\n",
    "print('На тарифе Смарт  пользователю требуется в среднем {:.0f} минут в месяц'.format( smart_pivot['mean_calls_duration'].mean()))"
   ]
  },
  {
   "cell_type": "markdown",
   "metadata": {},
   "source": [
    "Построим гистограммы средней длительности разговоров в месяц"
   ]
  },
  {
   "cell_type": "code",
   "execution_count": 58,
   "metadata": {
    "pycharm": {
     "name": "#%%\n"
    }
   },
   "outputs": [
    {
     "data": {
      "image/png": "[encoded data removed]",
      "text/plain": [
       "<Figure size 1080x360 with 1 Axes>"
      ]
     },
     "metadata": {
      "needs_background": "light"
     },
     "output_type": "display_data"
    }
   ],
   "source": [
    "f, ax = plt.subplots(figsize=(15,5))\n",
    "sns.histplot(data=smart_pivot, bins=20, x='mean_calls_duration', kde= True, label = 'smart')\n",
    "sns.histplot(data=ultra_pivot, bins=20, x='mean_calls_duration', kde= True, label = 'ultra', color= 'red', pthresh=0.5)\n",
    "ax.grid(zorder=0)\n",
    "ax.set_title('Плотность распределения средних по длительности звонков ')\n",
    "ax.set_xlabel('Среднее количество проговоренных минут в месяц')\n",
    "ax.set_ylabel('Количество месяцев')\n",
    "plt.legend()  \n",
    "plt.show()"
   ]
  },
  {
   "cell_type": "markdown",
   "metadata": {},
   "source": [
    "Плотности распределения довольно похожи. На тарифе Ультра смещение в сторону более длительных разговоров."
   ]
  },
  {
   "cell_type": "markdown",
   "metadata": {},
   "source": [
    "### Анализ количества сообщений по месяцам\n",
    "\n",
    "\n",
    "Рассчитаем дисперсию и средние значения по месяцам"
   ]
  },
  {
   "cell_type": "code",
   "execution_count": 59,
   "metadata": {
    "pycharm": {
     "name": "#%%\n"
    }
   },
   "outputs": [],
   "source": [
    "smart_pivot = calc_mean_sigma(smart, 'messages_count' )\n",
    "ultra_pivot = calc_mean_sigma(ultra, 'messages_count' )"
   ]
  },
  {
   "cell_type": "markdown",
   "metadata": {},
   "source": [
    "Построим графики среднего количества сообщений, которые отправляют пользователи обоих тарифов по месяцам"
   ]
  },
  {
   "cell_type": "code",
   "execution_count": 60,
   "metadata": {
    "pycharm": {
     "name": "#%%\n"
    }
   },
   "outputs": [
    {
     "data": {
      "image/png": "[encoded data removed]",
      "text/plain": [
       "<Figure size 1080x360 with 1 Axes>"
      ]
     },
     "metadata": {
      "needs_background": "light"
     },
     "output_type": "display_data"
    }
   ],
   "source": [
    "f, ax = plt.subplots(figsize=(15,5))\n",
    "ax.grid(zorder=0)\n",
    "\n",
    "plt.bar(x,         ultra_pivot['mean_messages_count'], width = width, label = 'ultra', color = 'red', alpha=0.5)\n",
    "plt.bar(x + width, smart_pivot['mean_messages_count'], width = width, label = 'smart', )    \n",
    "\n",
    "ax.set_title('Среднее количество сообщений в месяц')\n",
    "ax.set_ylabel('Количество сообщений')\n",
    "plt.legend()  \n",
    "\n",
    "plt.xticks( x+n/2. * width, months)\n",
    "plt.show()"
   ]
  },
  {
   "cell_type": "markdown",
   "metadata": {},
   "source": [
    "В среднем на тарифе Ультра отправляют больше сообщений. Особенно разрыв заметен в январе. Но в феврале среднее количество сообщений примерно одинаковое.\n",
    "________\n",
    "Посчитаем усредненное число отправленных сообщений по пользователям обоих тарифов  в месяц"
   ]
  },
  {
   "cell_type": "code",
   "execution_count": 61,
   "metadata": {
    "pycharm": {
     "name": "#%%\n"
    }
   },
   "outputs": [
    {
     "name": "stdout",
     "output_type": "stream",
     "text": [
      "На тарифе Ультра пользователь отправляет в среднем 44 сообщений в месяц\n",
      "На тарифе Смарт  пользователь отправляет в среднем 31 сообщений в месяц\n"
     ]
    }
   ],
   "source": [
    "print('На тарифе Ультра пользователь отправляет в среднем {:.0f} сообщений в месяц'.format( ultra_pivot['mean_messages_count'].mean()))\n",
    "print('На тарифе Смарт  пользователь отправляет в среднем {:.0f} сообщений в месяц'.format( smart_pivot['mean_messages_count'].mean()))"
   ]
  },
  {
   "cell_type": "markdown",
   "metadata": {},
   "source": [
    "Построим гистограммы среднего числа сообщений в месяц"
   ]
  },
  {
   "cell_type": "code",
   "execution_count": 62,
   "metadata": {
    "pycharm": {
     "name": "#%%\n"
    }
   },
   "outputs": [
    {
     "data": {
      "image/png": "[encoded data removed]",
      "text/plain": [
       "<Figure size 1080x360 with 1 Axes>"
      ]
     },
     "metadata": {
      "needs_background": "light"
     },
     "output_type": "display_data"
    }
   ],
   "source": [
    "f, ax = plt.subplots(figsize=(15,5))\n",
    "sns.histplot(data=smart_pivot, bins=20, x='mean_messages_count', kde= True, label = 'smart')\n",
    "sns.histplot(data=ultra_pivot, bins=20, x='mean_messages_count', kde= True, label = 'ultra', color= 'red', pthresh=0.5)\n",
    "ax.grid(zorder=0)\n",
    "ax.set_title('Плотность распределения среднего числа сообщений по месяцам ')\n",
    "ax.set_xlabel('Среднее количество отправленных сообщений в месяц')\n",
    "ax.set_ylabel('Количество месяцев')\n",
    "plt.legend()  \n",
    "plt.show()"
   ]
  },
  {
   "cell_type": "markdown",
   "metadata": {},
   "source": [
    "На тарифе Смарт 7 месяцев из 12 пользователи отправляют в среднем по 33 сообщения в месяц. У тарифа Ультра разброс более широкий."
   ]
  },
  {
   "cell_type": "markdown",
   "metadata": {},
   "source": [
    "### Анализ количества трафика по месяцам\n",
    "\n",
    "\n",
    "Рассчитаем дисперсию и средние значения по месяцам"
   ]
  },
  {
   "cell_type": "code",
   "execution_count": 63,
   "metadata": {
    "pycharm": {
     "name": "#%%\n"
    }
   },
   "outputs": [],
   "source": [
    "smart_pivot = calc_mean_sigma(smart, 'mb_used' )\n",
    "ultra_pivot = calc_mean_sigma(ultra, 'mb_used' )"
   ]
  },
  {
   "cell_type": "markdown",
   "metadata": {},
   "source": [
    "Добавим колонку с потребленными гигабайтами, так как эта единица измерения используется в тарифах."
   ]
  },
  {
   "cell_type": "code",
   "execution_count": 64,
   "metadata": {
    "pycharm": {
     "name": "#%%\n"
    }
   },
   "outputs": [],
   "source": [
    "smart_pivot['mean_gb_used'] = smart_pivot['mean_mb_used'] / 1024\n",
    "ultra_pivot['mean_gb_used'] = ultra_pivot['mean_mb_used'] / 1024"
   ]
  },
  {
   "cell_type": "markdown",
   "metadata": {},
   "source": [
    "Построим графики среднего количества трафика, которое потребляют пользователи обоих тарифов по месяцам"
   ]
  },
  {
   "cell_type": "code",
   "execution_count": 65,
   "metadata": {
    "pycharm": {
     "name": "#%%\n"
    }
   },
   "outputs": [
    {
     "data": {
      "image/png": "[encoded data removed]",
      "text/plain": [
       "<Figure size 1080x360 with 1 Axes>"
      ]
     },
     "metadata": {
      "needs_background": "light"
     },
     "output_type": "display_data"
    }
   ],
   "source": [
    "f, ax = plt.subplots(figsize=(15,5))\n",
    "ax.grid(zorder=0)\n",
    "\n",
    "plt.bar(x,         ultra_pivot['mean_gb_used'], width = width, label = 'ultra', color = 'red', alpha=0.5)\n",
    "plt.bar(x + width, smart_pivot['mean_gb_used'], width = width, label = 'smart', )    \n",
    "\n",
    "ax.set_title('Среднее количество трафика в месяц')\n",
    "ax.set_ylabel('Количество трафика (Гб)')\n",
    "plt.legend()  \n",
    "\n",
    "plt.xticks( x+n/2. * width, months)\n",
    "plt.show()"
   ]
  },
  {
   "cell_type": "markdown",
   "metadata": {},
   "source": [
    "По трафику похожая картина: в среднем на тарифе Ультра потребляют больше. Особенно разрыв заметен в январе. Но в феврале среднее количество примерно одинаковое.\n",
    "________\n",
    "Посчитаем усредненное количество потребленного интернет-трафика по пользователям обоих тарифов  в месяц"
   ]
  },
  {
   "cell_type": "code",
   "execution_count": 66,
   "metadata": {
    "pycharm": {
     "name": "#%%\n"
    }
   },
   "outputs": [
    {
     "name": "stdout",
     "output_type": "stream",
     "text": [
      "На тарифе Ультра пользователь потребляет в среднем 17.3 Гб в месяц\n",
      "На тарифе Смарт  пользователь потребляет в среднем 14.6 Гб в месяц\n"
     ]
    }
   ],
   "source": [
    "print('На тарифе Ультра пользователь потребляет в среднем {:.1f} Гб в месяц'.format( ultra_pivot['mean_gb_used'].mean()))\n",
    "print('На тарифе Смарт  пользователь потребляет в среднем {:.1f} Гб в месяц'.format( smart_pivot['mean_gb_used'].mean()))"
   ]
  },
  {
   "cell_type": "markdown",
   "metadata": {},
   "source": [
    "Построим гистограммы среднего трафика в месяц"
   ]
  },
  {
   "cell_type": "code",
   "execution_count": 67,
   "metadata": {
    "pycharm": {
     "name": "#%%\n"
    }
   },
   "outputs": [
    {
     "data": {
      "image/png": "[encoded data removed]",
      "text/plain": [
       "<Figure size 1080x360 with 1 Axes>"
      ]
     },
     "metadata": {
      "needs_background": "light"
     },
     "output_type": "display_data"
    }
   ],
   "source": [
    "f, ax = plt.subplots(figsize=(15,5))\n",
    "sns.histplot(data=smart_pivot, bins=20, x='mean_gb_used', kde= True, label = 'smart')\n",
    "sns.histplot(data=ultra_pivot, bins=20, x='mean_gb_used', kde= True, label = 'ultra', color= 'red', pthresh=0.5)\n",
    "ax.grid(zorder=0)\n",
    "ax.set_title('Плотность распределения среднего количества потребленного трафика по месяцам ')\n",
    "ax.set_xlabel('Среднее количество потребленного трафика в месяц')\n",
    "ax.set_ylabel('Количество месяцев')\n",
    "plt.legend()  \n",
    "plt.show()"
   ]
  },
  {
   "cell_type": "markdown",
   "metadata": {},
   "source": [
    "Распределение по потреблению трафика похожи. Но со сдвигом в большую сторону на тарифе Ультра. Пользователи тарифа Смарт стараются уложиться в предоплаченные 15 гигабайт, но в среднем 8 месяцев из 12 это не удается."
   ]
  },
  {
   "cell_type": "markdown",
   "metadata": {},
   "source": [
    "### Вывод\n",
    "\n",
    "\n",
    "Пользователи тарифа Смарт \n",
    "- в среднем укладываются в предоплаченный лимит по звонкам\n",
    "- в среднем укладываются в предоплаченный лимит по сообщениям\n",
    "- в среднем чаще не укладываются в предоплаченный лимит по трафику\n",
    "\n",
    "____________\n",
    "Пользователи тарифа Ультра\n",
    "- в среднем укладываются в предоплаченный лимит по звонкам с большим запасом\n",
    "- в среднем укладываются в предоплаченный лимит по сообщениям с большим запасом\n",
    "- в среднем укладываются в предоплаченный лимит по трафику\n",
    "\n",
    "\n",
    "_______________\n",
    "Пользователи тарифа Ультра в среднем потребляют больше услуг, чем на тарифе Смарт.\n",
    "\n"
   ]
  },
  {
   "cell_type": "markdown",
   "metadata": {},
   "source": [
    "## Проверка гипотез"
   ]
  },
  {
   "cell_type": "markdown",
   "metadata": {},
   "source": [
    "### Средняя выручка пользователей тарифов «Ультра» и «Смарт» различается\n",
    "\n",
    "\n",
    "Предположим, что средние выручки пользователей тарифов Ультра и Смарт равны - это будет нулевая гипотеза. Тогда альтернативной гипотезой будет то, что средние выручки различаются.\n",
    "\n",
    "Посчитаем среднюю выручку на обоих тарифах"
   ]
  },
  {
   "cell_type": "code",
   "execution_count": 68,
   "metadata": {
    "pycharm": {
     "name": "#%%\n"
    }
   },
   "outputs": [
    {
     "name": "stdout",
     "output_type": "stream",
     "text": [
      "Средняя выручка на тарифе Смарт 1247.8739999999998\n",
      "Средняя выручка на тарифе Ультра 2049.6450304259633\n"
     ]
    }
   ],
   "source": [
    "print('Средняя выручка на тарифе Смарт', smart['revenue'].mean())\n",
    "print('Средняя выручка на тарифе Ультра', ultra['revenue'].mean())"
   ]
  },
  {
   "cell_type": "markdown",
   "metadata": {},
   "source": [
    "Предположим что средняя выручка с каждого пользователя на тарифах Ультра и Смарт равна, а данные значения получены случайно. Проверим эту гипотезу, используя t-критерий Стьюдента."
   ]
  },
  {
   "cell_type": "code",
   "execution_count": 69,
   "metadata": {
    "pycharm": {
     "name": "#%%\n"
    }
   },
   "outputs": [
    {
     "name": "stdout",
     "output_type": "stream",
     "text": [
      "p-значение: 5.432719861008354e-180\n"
     ]
    }
   ],
   "source": [
    "results = st.ttest_ind( ultra['revenue'], smart['revenue'])\n",
    "\n",
    "print('p-значение:', results.pvalue)"
   ]
  },
  {
   "cell_type": "markdown",
   "metadata": {},
   "source": [
    "Вероятность  получить равенство средних ничтожно мала. Поэтому делаем вывод, что нулевая гипотеза о равенстве средних опровергнута."
   ]
  },
  {
   "cell_type": "markdown",
   "metadata": {},
   "source": [
    "### Средняя выручка пользователей из Москвы отличается от выручки пользователей из других регионов\n",
    "\n",
    "Предположим, что средние выручки пользователей в Москве и в остальных регионах равны - это будет нулевая гипотеза. Тогда альтернативной гипотезой будет то, что средние выручки различаются.\n",
    "\n",
    "\n",
    "Сделаем 2 выборки из данных - Москва и другие регионы"
   ]
  },
  {
   "cell_type": "code",
   "execution_count": 70,
   "metadata": {
    "pycharm": {
     "name": "#%%\n"
    }
   },
   "outputs": [],
   "source": [
    "moscow = pivot.query('city == \"Москва\"')\n",
    "other = pivot.query('city != \"Москва\"')"
   ]
  },
  {
   "cell_type": "markdown",
   "metadata": {},
   "source": [
    "Посчитаем среднюю выручку в обоих выборках"
   ]
  },
  {
   "cell_type": "code",
   "execution_count": 71,
   "metadata": {
    "pycharm": {
     "name": "#%%\n"
    }
   },
   "outputs": [
    {
     "name": "stdout",
     "output_type": "stream",
     "text": [
      "Средняя выручка пользователей Москвы 1513.583518821604\n",
      "Средняя выручка остальных пользователей 1489.0247562380036\n"
     ]
    }
   ],
   "source": [
    "print('Средняя выручка пользователей Москвы', moscow['revenue'].mean())\n",
    "print('Средняя выручка остальных пользователей', other['revenue'].mean())"
   ]
  },
  {
   "cell_type": "markdown",
   "metadata": {},
   "source": [
    "Предположим что средняя выручки пользователей из Москвы и остальных регионах равны. Проверим эту гипотезу, используя t-критерий Стьюдента."
   ]
  },
  {
   "cell_type": "code",
   "execution_count": 72,
   "metadata": {
    "pycharm": {
     "name": "#%%\n"
    }
   },
   "outputs": [
    {
     "name": "stdout",
     "output_type": "stream",
     "text": [
      "p-значение: 0.4836028621460814\n"
     ]
    }
   ],
   "source": [
    "results = st.ttest_ind( moscow['revenue'], other['revenue'])\n",
    "print('p-значение:', results.pvalue)"
   ]
  },
  {
   "cell_type": "markdown",
   "metadata": {},
   "source": [
    "Средние выручки мало отличаются, с вероятностью 49% процентов это различие получено случайно. Нулевая гипотеза не была опровергнута. Делаем вывод, что средняя выручка пользователей из Москвы не отличается от выручки пользователей из других регионов."
   ]
  },
  {
   "cell_type": "markdown",
   "metadata": {},
   "source": [
    "### Подсчет валовой выручки с пользователей обоих тарифов\n",
    "\n",
    "Посчитаем валовую выручку для обоих тарифов"
   ]
  },
  {
   "cell_type": "code",
   "execution_count": 73,
   "metadata": {
    "pycharm": {
     "name": "#%%\n"
    }
   },
   "outputs": [],
   "source": [
    "smart_revenue = smart.pivot_table(index='month', values='revenue', aggfunc='sum')\n",
    "ultra_revenue = ultra.pivot_table(index='month', values='revenue', aggfunc='sum')"
   ]
  },
  {
   "cell_type": "markdown",
   "metadata": {},
   "source": [
    "Построим график выручки с обоих тарифов по месяцам"
   ]
  },
  {
   "cell_type": "code",
   "execution_count": 74,
   "metadata": {
    "pycharm": {
     "name": "#%%\n"
    }
   },
   "outputs": [
    {
     "data": {
      "image/png": "[encoded data removed]",
      "text/plain": [
       "<Figure size 1080x360 with 1 Axes>"
      ]
     },
     "metadata": {
      "needs_background": "light"
     },
     "output_type": "display_data"
    }
   ],
   "source": [
    "f, ax = plt.subplots(figsize=(15,5))\n",
    "ax.grid(zorder=0)\n",
    "\n",
    "plt.bar(x,         ultra_revenue['revenue'], width = width, label = 'ultra', color='red', alpha=0.5)\n",
    "plt.bar(x + width, smart_revenue['revenue'], width = width, label = 'smart' )    \n",
    "\n",
    "ax.set_title('Валовая выручка в месяц')\n",
    "ax.set_ylabel('Рубли')\n",
    "plt.legend()  \n",
    "\n",
    "plt.xticks( x+n/2. * width, months)\n",
    "plt.show()"
   ]
  },
  {
   "cell_type": "markdown",
   "metadata": {},
   "source": [
    "Посчитаем среднюю выручку по обоим тарифам"
   ]
  },
  {
   "cell_type": "code",
   "execution_count": 75,
   "metadata": {
    "pycharm": {
     "name": "#%%\n"
    }
   },
   "outputs": [
    {
     "name": "stdout",
     "output_type": "stream",
     "text": [
      "Средняя выручка от пользователей тарифа Смарт 231896.58499999996\n",
      "Средняя выручка от пользователей тарифа Ультра 168412.5\n"
     ]
    }
   ],
   "source": [
    "print('Средняя выручка от пользователей тарифа Смарт', smart_revenue['revenue'].mean())\n",
    "print('Средняя выручка от пользователей тарифа Ультра', ultra_revenue['revenue'].mean())"
   ]
  },
  {
   "cell_type": "markdown",
   "metadata": {},
   "source": [
    "Посчитаем число пользователей обоих тарифов"
   ]
  },
  {
   "cell_type": "code",
   "execution_count": 76,
   "metadata": {
    "pycharm": {
     "name": "#%%\n"
    }
   },
   "outputs": [],
   "source": [
    "ultra_users_count = len ( users.query('tariff == \"ultra\"'))\n",
    "smart_users_count = len ( users.query('tariff == \"smart\"'))"
   ]
  },
  {
   "cell_type": "markdown",
   "metadata": {},
   "source": [
    "Построим график выручки с обоих тарифов по месяцам в пересчете на пользователя"
   ]
  },
  {
   "cell_type": "code",
   "execution_count": 77,
   "metadata": {
    "pycharm": {
     "name": "#%%\n"
    }
   },
   "outputs": [
    {
     "data": {
      "image/png": "[encoded data removed]",
      "text/plain": [
       "<Figure size 1080x360 with 1 Axes>"
      ]
     },
     "metadata": {
      "needs_background": "light"
     },
     "output_type": "display_data"
    }
   ],
   "source": [
    "f, ax = plt.subplots(figsize=(15,5))\n",
    "ax.grid(zorder=0)\n",
    "\n",
    "plt.bar(x,         ultra_revenue['revenue'] / ultra_users_count, width = width, label = 'ultra', color='red', alpha=0.5)\n",
    "plt.bar(x + width, smart_revenue['revenue'] / smart_users_count, width = width, label = 'smart' )    \n",
    "\n",
    "ax.set_title('Средняя выручка в месяц на пользователя')\n",
    "ax.set_ylabel('Рубли')\n",
    "plt.legend()  \n",
    "\n",
    "plt.xticks( x+n/2. * width, months)\n",
    "plt.show()"
   ]
  },
  {
   "cell_type": "markdown",
   "metadata": {},
   "source": [
    "### Вывод\n",
    "\n",
    "Есть различия по средней выручке на разных тарифах. \n",
    "\n",
    "Различия выручки пользователей Москвы и остальных регионов не найдены.\n",
    "\n",
    "Выручка с пользователя на тарифе Ультра больше чем на Смарт. Но число пользователей Смарт больше."
   ]
  },
  {
   "cell_type": "markdown",
   "metadata": {},
   "source": [
    "## Общий вывод\n",
    "\n",
    "\n",
    "Составлена универсальная функция для подсчета выручки. В будущем можно добавлять новые тарифы и данные по пользователям и анализировать выручку.\n",
    "\n",
    "\n",
    "\n",
    "### Тарифы\n",
    "\n",
    "#### Статистика по тарифам\n",
    "\n",
    "\n",
    "Пользователям тарифа Смарт в месяц требуется в среднем\n",
    "- 365 минут на телефонные звонки\n",
    "- 31 сообщение\n",
    "- 14.6 Гб Интернет-трафика\n",
    "\n",
    "_______________\n",
    "\n",
    "Пользователям тарифа Ультра в месяц требуется в среднем\n",
    "- 468 минут на телефонные звонки\n",
    "- 44 сообщения\n",
    "- 17.3 Гб Интернет-трафика\n",
    "\n",
    "\n",
    "\n",
    "#### Лучший тариф\n",
    "\n",
    "График валовой выручки подтверждает то что средняя выручка от пользователя на тарифе Ультра больше.\n",
    "- На тарифе Смарт  выручка в среднем  1248 руб на пользователя в месяц.\n",
    "- На тарифе Ультра выручка  в среднем 2049 руб на пользователя в месяц.\n",
    "\n",
    "\n",
    "______________\n",
    "\n",
    "В исследуемой выборке количество пользователей тарифа Смарт больше на 135%. Что очевидно - этот тариф обходится дешевле. Большое число пользователей на тарифе Смарт дает валовую прибыль больше чем от тарифа Ультра.\n",
    "- По тарифу Смарт  выручка в среднем  231 896 руб. в месяц.\n",
    "- По тарифу Ультра выручка  в среднем 168 412 руб. в месяц.\n",
    "\n",
    "Оба тарифа решают свои задачи. На Ультра больше прибыль с клиента. На Смарт больше клиентов.\n",
    "\n",
    "Рекомендация создать тариф с еще меньшим числом предоплаченных лимитов, чтобы охватить большее число пользователей.\n",
    "\n",
    "\n",
    "### Проверенные гипотезы\n",
    "#### Равенство средних выручек на обоих тарифах\n",
    "\n",
    "Гипотеза о равенстве средней выручки на тарифах опровергнута. В средняя выручка с пользвателя на тарифе Ультра больше на 64%.\n",
    "\n",
    "#### Равенство средних выручек в Москве и в других регионах\n",
    "Не удалось опровергнуть гипотезу о равенстве средних выручек пользователей из Москвы и пользователей из других регионов.\n",
    "Рекомендация усилить рекламу в регионах, чтобы получить приток таких же по прибыльности клиентов за меньшие рекламные бюджеты."
   ]
  },
  {
   "cell_type": "markdown",
   "metadata": {},
   "source": [
    "### Лимиты предоплаченных услуг\n",
    "По обоим тарифам виден перевес в сторону исчерпания предоплаченного лимита трафика Интернета. По отправке смс и звонкам обычно остается большой запас до предоплаченной границы. Если предоплаченный лимит по тарифам подбирался как средний расход пользователя, то можно сделать вывод, что Интернет перетягивает на себя трафик из других каналов коммуникации."
   ]
  }
 ],
 "metadata": {
  "ExecuteTimeLog": [
   {
    "duration": 6410,
    "start_time": "2021-08-04T12:57:37.009Z"
   },
   {
    "duration": 4769,
    "start_time": "2021-08-04T12:57:52.675Z"
   },
   {
    "duration": 239,
    "start_time": "2021-08-04T12:57:57.448Z"
   },
   {
    "duration": 193,
    "start_time": "2021-08-04T12:57:57.690Z"
   },
   {
    "duration": 134,
    "start_time": "2021-08-04T12:57:57.886Z"
   },
   {
    "duration": 34,
    "start_time": "2021-08-04T12:57:58.022Z"
   },
   {
    "duration": 11,
    "start_time": "2021-08-04T12:57:58.058Z"
   },
   {
    "duration": 67,
    "start_time": "2021-08-04T12:57:58.071Z"
   },
   {
    "duration": 44,
    "start_time": "2021-08-04T12:57:58.142Z"
   },
   {
    "duration": 5,
    "start_time": "2021-08-04T12:57:58.189Z"
   },
   {
    "duration": 79,
    "start_time": "2021-08-04T12:57:58.196Z"
   },
   {
    "duration": 29,
    "start_time": "2021-08-04T12:57:58.278Z"
   },
   {
    "duration": 25,
    "start_time": "2021-08-04T12:57:58.309Z"
   },
   {
    "duration": 25,
    "start_time": "2021-08-04T12:57:58.336Z"
   },
   {
    "duration": 238,
    "start_time": "2021-08-04T12:57:58.364Z"
   },
   {
    "duration": 22,
    "start_time": "2021-08-04T12:57:58.604Z"
   },
   {
    "duration": 31,
    "start_time": "2021-08-04T12:57:58.628Z"
   },
   {
    "duration": 7,
    "start_time": "2021-08-04T12:57:58.662Z"
   },
   {
    "duration": 12,
    "start_time": "2021-08-04T12:57:58.671Z"
   },
   {
    "duration": 9,
    "start_time": "2021-08-04T12:57:58.685Z"
   },
   {
    "duration": 8,
    "start_time": "2021-08-04T12:57:58.696Z"
   },
   {
    "duration": 273,
    "start_time": "2021-08-04T12:57:58.706Z"
   },
   {
    "duration": 14,
    "start_time": "2021-08-04T12:57:58.981Z"
   },
   {
    "duration": 17,
    "start_time": "2021-08-04T12:57:59.001Z"
   },
   {
    "duration": 253,
    "start_time": "2021-08-04T12:57:59.023Z"
   },
   {
    "duration": 10,
    "start_time": "2021-08-04T12:57:59.279Z"
   },
   {
    "duration": 9,
    "start_time": "2021-08-04T12:57:59.292Z"
   },
   {
    "duration": 56,
    "start_time": "2021-08-04T12:57:59.303Z"
   },
   {
    "duration": 123,
    "start_time": "2021-08-04T12:57:59.361Z"
   },
   {
    "duration": 19,
    "start_time": "2021-08-04T12:57:59.487Z"
   },
   {
    "duration": 216,
    "start_time": "2021-08-04T12:57:59.508Z"
   },
   {
    "duration": 39,
    "start_time": "2021-08-04T12:57:59.726Z"
   },
   {
    "duration": 55,
    "start_time": "2021-08-04T12:57:59.767Z"
   },
   {
    "duration": 79,
    "start_time": "2021-08-04T12:57:59.824Z"
   },
   {
    "duration": 22,
    "start_time": "2021-08-04T12:57:59.905Z"
   },
   {
    "duration": 38,
    "start_time": "2021-08-04T12:57:59.929Z"
   },
   {
    "duration": 68,
    "start_time": "2021-08-04T12:57:59.969Z"
   },
   {
    "duration": 103,
    "start_time": "2021-08-04T12:58:00.056Z"
   },
   {
    "duration": 11,
    "start_time": "2021-08-04T12:58:00.162Z"
   },
   {
    "duration": 35,
    "start_time": "2021-08-04T12:58:00.175Z"
   },
   {
    "duration": 56,
    "start_time": "2021-08-04T12:58:00.213Z"
   },
   {
    "duration": 7,
    "start_time": "2021-08-04T12:58:00.271Z"
   },
   {
    "duration": 42,
    "start_time": "2021-08-04T12:58:00.280Z"
   },
   {
    "duration": 17,
    "start_time": "2021-08-04T12:58:00.324Z"
   },
   {
    "duration": 44,
    "start_time": "2021-08-04T12:58:00.343Z"
   },
   {
    "duration": 17,
    "start_time": "2021-08-04T12:58:00.389Z"
   },
   {
    "duration": 20,
    "start_time": "2021-08-04T12:58:00.408Z"
   },
   {
    "duration": 202,
    "start_time": "2021-08-04T12:58:00.430Z"
   },
   {
    "duration": 45,
    "start_time": "2021-08-04T12:58:00.635Z"
   },
   {
    "duration": 12,
    "start_time": "2021-08-04T12:58:00.682Z"
   },
   {
    "duration": 10,
    "start_time": "2021-08-04T12:58:00.696Z"
   },
   {
    "duration": 86,
    "start_time": "2021-08-04T12:58:00.708Z"
   },
   {
    "duration": 487,
    "start_time": "2021-08-04T12:58:00.796Z"
   },
   {
    "duration": 6,
    "start_time": "2021-08-04T12:58:01.286Z"
   },
   {
    "duration": 645,
    "start_time": "2021-08-04T12:58:01.294Z"
   },
   {
    "duration": 53,
    "start_time": "2021-08-04T12:58:01.942Z"
   },
   {
    "duration": 558,
    "start_time": "2021-08-04T12:58:01.997Z"
   },
   {
    "duration": 5,
    "start_time": "2021-08-04T12:58:02.558Z"
   },
   {
    "duration": 677,
    "start_time": "2021-08-04T12:58:02.565Z"
   },
   {
    "duration": 53,
    "start_time": "2021-08-04T12:58:03.244Z"
   },
   {
    "duration": 6,
    "start_time": "2021-08-04T12:58:03.299Z"
   },
   {
    "duration": 493,
    "start_time": "2021-08-04T12:58:03.307Z"
   },
   {
    "duration": 6,
    "start_time": "2021-08-04T12:58:03.803Z"
   },
   {
    "duration": 622,
    "start_time": "2021-08-04T12:58:03.811Z"
   },
   {
    "duration": 6,
    "start_time": "2021-08-04T12:58:04.435Z"
   },
   {
    "duration": 16,
    "start_time": "2021-08-04T12:58:04.444Z"
   },
   {
    "duration": 17,
    "start_time": "2021-08-04T12:58:04.462Z"
   },
   {
    "duration": 11,
    "start_time": "2021-08-04T12:58:04.482Z"
   },
   {
    "duration": 6,
    "start_time": "2021-08-04T12:58:04.502Z"
   },
   {
    "duration": 58,
    "start_time": "2021-08-04T12:58:04.511Z"
   },
   {
    "duration": 471,
    "start_time": "2021-08-04T12:58:04.572Z"
   },
   {
    "duration": 12,
    "start_time": "2021-08-04T12:58:05.046Z"
   },
   {
    "duration": 31,
    "start_time": "2021-08-04T12:58:05.061Z"
   },
   {
    "duration": 475,
    "start_time": "2021-08-04T12:58:05.095Z"
   },
   {
    "duration": 228,
    "start_time": "2021-08-04T13:53:34.486Z"
   },
   {
    "duration": 40,
    "start_time": "2021-08-04T13:54:08.704Z"
   },
   {
    "duration": 6,
    "start_time": "2021-08-04T13:54:33.307Z"
   },
   {
    "duration": 6,
    "start_time": "2021-08-04T13:54:47.731Z"
   }
  ],
  "kernelspec": {
   "display_name": "Python 3",
   "language": "python",
   "name": "python3"
  },
  "language_info": {
   "codemirror_mode": {
    "name": "ipython",
    "version": 3
   },
   "file_extension": ".py",
   "mimetype": "text/x-python",
   "name": "python",
   "nbconvert_exporter": "python",
   "pygments_lexer": "ipython3",
   "version": "3.7.10"
  },
  "toc": {
   "base_numbering": 1,
   "nav_menu": {},
   "number_sections": true,
   "sideBar": true,
   "skip_h1_title": true,
   "title_cell": "Содержание",
   "title_sidebar": "Contents",
   "toc_cell": true,
   "toc_position": {
    "height": "calc(100% - 180px)",
    "left": "10px",
    "top": "150px",
    "width": "318.391px"
   },
   "toc_section_display": true,
   "toc_window_display": true
  }
 },
 "nbformat": 4,
 "nbformat_minor": 2
}
